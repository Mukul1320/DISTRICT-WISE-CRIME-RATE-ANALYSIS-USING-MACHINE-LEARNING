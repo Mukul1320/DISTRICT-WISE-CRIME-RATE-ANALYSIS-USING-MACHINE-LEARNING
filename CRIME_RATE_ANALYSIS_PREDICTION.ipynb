{
  "nbformat": 4,
  "nbformat_minor": 0,
  "metadata": {
    "colab": {
      "name": "CRIME RATE ANALYSIS PREDICTION",
      "provenance": [],
      "collapsed_sections": []
    },
    "kernelspec": {
      "name": "python3",
      "display_name": "Python 3"
    },
    "accelerator": "GPU"
  },
  "cells": [
    {
      "cell_type": "code",
      "metadata": {
        "id": "Usoh6AaIM58Z",
        "colab": {
          "base_uri": "https://localhost:8080/"
        },
        "outputId": "c9a9186f-e12b-45c9-8ff7-e3cb3a5ebd1a"
      },
      "source": [
        " \n",
        "from google.colab import drive\n",
        "drive.mount('/content/gdrive')"
      ],
      "execution_count": null,
      "outputs": [
        {
          "output_type": "stream",
          "text": [
            "Mounted at /content/gdrive\n"
          ],
          "name": "stdout"
        }
      ]
    },
    {
      "cell_type": "code",
      "metadata": {
        "id": "hTfkOpB1HSOy"
      },
      "source": [
        ""
      ],
      "execution_count": null,
      "outputs": []
    },
    {
      "cell_type": "code",
      "metadata": {
        "id": "2SW9D1tRB99M"
      },
      "source": [
        "import numpy as numpy\n",
        "import pandas as pd\n",
        "import matplotlib.pyplot as plt\n",
        "import seaborn as sns\n"
      ],
      "execution_count": null,
      "outputs": []
    },
    {
      "cell_type": "code",
      "metadata": {
        "id": "bG9mpqo-NQ-4",
        "colab": {
          "base_uri": "https://localhost:8080/",
          "height": 605
        },
        "outputId": "f3dd994c-01ec-45dc-f22a-f762f58872ee"
      },
      "source": [
        "crime_rates =pd.read_csv('/content/gdrive/MyDrive/crime/crime.csv')\n",
        "crime_rates"
      ],
      "execution_count": null,
      "outputs": [
        {
          "output_type": "execute_result",
          "data": {
            "text/html": [
              "<div>\n",
              "<style scoped>\n",
              "    .dataframe tbody tr th:only-of-type {\n",
              "        vertical-align: middle;\n",
              "    }\n",
              "\n",
              "    .dataframe tbody tr th {\n",
              "        vertical-align: top;\n",
              "    }\n",
              "\n",
              "    .dataframe thead th {\n",
              "        text-align: right;\n",
              "    }\n",
              "</style>\n",
              "<table border=\"1\" class=\"dataframe\">\n",
              "  <thead>\n",
              "    <tr style=\"text-align: right;\">\n",
              "      <th></th>\n",
              "      <th>States/UTs</th>\n",
              "      <th>District</th>\n",
              "      <th>Year</th>\n",
              "      <th>Protection of Civil Rights Act, 1955</th>\n",
              "      <th>POA_Murder</th>\n",
              "      <th>POA_Attempt to commit Murder</th>\n",
              "      <th>POA_Rape</th>\n",
              "      <th>POA_Attempt to commit Rape</th>\n",
              "      <th>POA_Assault on women with intent to outrage her Modesty</th>\n",
              "      <th>POA_Sexual Harassment</th>\n",
              "      <th>POA_Assault on women with intent to Disrobe</th>\n",
              "      <th>POA_Voyeurism</th>\n",
              "      <th>POA_Stalking</th>\n",
              "      <th>POA_Other Sexual Harassment</th>\n",
              "      <th>POA_Insult to the Modesty of women</th>\n",
              "      <th>POA_Kidnapping &amp; Abduction_GrandTotal</th>\n",
              "      <th>POA_Kidnaping &amp; Abduction_Total</th>\n",
              "      <th>POA_Kidnaping &amp; Abduction in order to Murder</th>\n",
              "      <th>POA_Kidnapping for Ransom</th>\n",
              "      <th>POA_Kidnapping &amp; Abduction of Women to compel her for marriage</th>\n",
              "      <th>POA_Other Kidnapping</th>\n",
              "      <th>POA_Dacoity</th>\n",
              "      <th>POA_Dacoity with Murder</th>\n",
              "      <th>POA_Other Dacoity</th>\n",
              "      <th>POA_Robbery</th>\n",
              "      <th>POA_Arson</th>\n",
              "      <th>POA_Grievous Hurt</th>\n",
              "      <th>POA_Hurt</th>\n",
              "      <th>POA_Acid attack</th>\n",
              "      <th>POA_Attempt to Acid Attack</th>\n",
              "      <th>POA_Riots</th>\n",
              "      <th>POA_Other IPC crimes</th>\n",
              "      <th>POA_SC / ST (Prevention of Atrocities) Act only</th>\n",
              "      <th>Total of SC/ST (Prevention of Atrocities) Act ,1989</th>\n",
              "      <th>IPC_Murder</th>\n",
              "      <th>IPC_Attempt to commit Murder</th>\n",
              "      <th>IPC_Rape</th>\n",
              "      <th>IPC_Attempt to commit Rape</th>\n",
              "      <th>IPC_Assault on women with intent to outrage her Modesty</th>\n",
              "      <th>IPC_Sexual Harassment</th>\n",
              "      <th>IPC_Assault on women with intent to Disrobe</th>\n",
              "      <th>IPC_Voyeurism</th>\n",
              "      <th>IPC_Stalking</th>\n",
              "      <th>IPC_Other Sexual Harassment</th>\n",
              "      <th>IPC_Insult to the Modesty of women</th>\n",
              "      <th>IPC_Kidnapping &amp; Abduction</th>\n",
              "      <th>IPC_Kidnaping &amp; Abduction</th>\n",
              "      <th>IPC_Kidnaping &amp; Abduction in order to Murder</th>\n",
              "      <th>IPC_Kidnapping for Ransom</th>\n",
              "      <th>IPC_Kidnapping &amp; Abduction of Women to compel her for marriage</th>\n",
              "      <th>IPC_Other Kidnapping</th>\n",
              "      <th>IPC_Dacoity</th>\n",
              "      <th>IPC_Dacoity with Murder</th>\n",
              "      <th>IPC_Other Dacoity</th>\n",
              "      <th>IPC_Robbery</th>\n",
              "      <th>IPC_Arson</th>\n",
              "      <th>IPC_Grievous Hurt</th>\n",
              "      <th>IPC_Hurt</th>\n",
              "      <th>IPC_Acid attack</th>\n",
              "      <th>IPC_Attempt to Acid Attack</th>\n",
              "      <th>IPC_Riots</th>\n",
              "      <th>IPC_Other IPC crimes</th>\n",
              "      <th>Total IPC Crimes against STs</th>\n",
              "      <th>Manual Scavengers and Construction of Dry Latrines (P) Act, 1993</th>\n",
              "      <th>Other SLL Crime against STs</th>\n",
              "      <th>Total crimes against STs</th>\n",
              "    </tr>\n",
              "  </thead>\n",
              "  <tbody>\n",
              "    <tr>\n",
              "      <th>0</th>\n",
              "      <td>Andhra Pradesh</td>\n",
              "      <td>Anantapur</td>\n",
              "      <td>2014</td>\n",
              "      <td>0</td>\n",
              "      <td>1</td>\n",
              "      <td>2</td>\n",
              "      <td>0</td>\n",
              "      <td>1</td>\n",
              "      <td>2</td>\n",
              "      <td>1</td>\n",
              "      <td>0</td>\n",
              "      <td>0</td>\n",
              "      <td>1</td>\n",
              "      <td>0</td>\n",
              "      <td>0</td>\n",
              "      <td>0</td>\n",
              "      <td>0</td>\n",
              "      <td>0</td>\n",
              "      <td>0</td>\n",
              "      <td>0</td>\n",
              "      <td>0</td>\n",
              "      <td>0</td>\n",
              "      <td>0</td>\n",
              "      <td>0</td>\n",
              "      <td>0</td>\n",
              "      <td>0</td>\n",
              "      <td>0</td>\n",
              "      <td>0</td>\n",
              "      <td>0</td>\n",
              "      <td>0</td>\n",
              "      <td>0</td>\n",
              "      <td>15</td>\n",
              "      <td>2</td>\n",
              "      <td>23</td>\n",
              "      <td>0</td>\n",
              "      <td>0</td>\n",
              "      <td>0</td>\n",
              "      <td>0</td>\n",
              "      <td>0</td>\n",
              "      <td>0</td>\n",
              "      <td>0</td>\n",
              "      <td>0</td>\n",
              "      <td>0</td>\n",
              "      <td>0</td>\n",
              "      <td>0</td>\n",
              "      <td>0</td>\n",
              "      <td>0</td>\n",
              "      <td>0</td>\n",
              "      <td>0</td>\n",
              "      <td>0</td>\n",
              "      <td>0</td>\n",
              "      <td>0</td>\n",
              "      <td>0</td>\n",
              "      <td>0</td>\n",
              "      <td>0</td>\n",
              "      <td>0</td>\n",
              "      <td>0</td>\n",
              "      <td>0</td>\n",
              "      <td>0</td>\n",
              "      <td>0</td>\n",
              "      <td>0</td>\n",
              "      <td>0</td>\n",
              "      <td>0</td>\n",
              "      <td>0</td>\n",
              "      <td>0</td>\n",
              "      <td>23</td>\n",
              "    </tr>\n",
              "    <tr>\n",
              "      <th>1</th>\n",
              "      <td>Andhra Pradesh</td>\n",
              "      <td>Chittoor</td>\n",
              "      <td>2014</td>\n",
              "      <td>0</td>\n",
              "      <td>0</td>\n",
              "      <td>0</td>\n",
              "      <td>0</td>\n",
              "      <td>0</td>\n",
              "      <td>1</td>\n",
              "      <td>0</td>\n",
              "      <td>0</td>\n",
              "      <td>0</td>\n",
              "      <td>0</td>\n",
              "      <td>1</td>\n",
              "      <td>0</td>\n",
              "      <td>1</td>\n",
              "      <td>0</td>\n",
              "      <td>0</td>\n",
              "      <td>0</td>\n",
              "      <td>0</td>\n",
              "      <td>1</td>\n",
              "      <td>0</td>\n",
              "      <td>0</td>\n",
              "      <td>0</td>\n",
              "      <td>0</td>\n",
              "      <td>0</td>\n",
              "      <td>1</td>\n",
              "      <td>1</td>\n",
              "      <td>0</td>\n",
              "      <td>0</td>\n",
              "      <td>1</td>\n",
              "      <td>13</td>\n",
              "      <td>0</td>\n",
              "      <td>17</td>\n",
              "      <td>0</td>\n",
              "      <td>0</td>\n",
              "      <td>0</td>\n",
              "      <td>0</td>\n",
              "      <td>0</td>\n",
              "      <td>0</td>\n",
              "      <td>0</td>\n",
              "      <td>0</td>\n",
              "      <td>0</td>\n",
              "      <td>0</td>\n",
              "      <td>0</td>\n",
              "      <td>0</td>\n",
              "      <td>0</td>\n",
              "      <td>0</td>\n",
              "      <td>0</td>\n",
              "      <td>0</td>\n",
              "      <td>0</td>\n",
              "      <td>0</td>\n",
              "      <td>0</td>\n",
              "      <td>0</td>\n",
              "      <td>0</td>\n",
              "      <td>0</td>\n",
              "      <td>0</td>\n",
              "      <td>0</td>\n",
              "      <td>0</td>\n",
              "      <td>0</td>\n",
              "      <td>0</td>\n",
              "      <td>0</td>\n",
              "      <td>0</td>\n",
              "      <td>0</td>\n",
              "      <td>0</td>\n",
              "      <td>17</td>\n",
              "    </tr>\n",
              "    <tr>\n",
              "      <th>2</th>\n",
              "      <td>Andhra Pradesh</td>\n",
              "      <td>Cuddapah</td>\n",
              "      <td>2014</td>\n",
              "      <td>0</td>\n",
              "      <td>1</td>\n",
              "      <td>0</td>\n",
              "      <td>1</td>\n",
              "      <td>0</td>\n",
              "      <td>0</td>\n",
              "      <td>0</td>\n",
              "      <td>0</td>\n",
              "      <td>0</td>\n",
              "      <td>0</td>\n",
              "      <td>0</td>\n",
              "      <td>0</td>\n",
              "      <td>1</td>\n",
              "      <td>0</td>\n",
              "      <td>0</td>\n",
              "      <td>0</td>\n",
              "      <td>0</td>\n",
              "      <td>1</td>\n",
              "      <td>0</td>\n",
              "      <td>0</td>\n",
              "      <td>0</td>\n",
              "      <td>0</td>\n",
              "      <td>0</td>\n",
              "      <td>0</td>\n",
              "      <td>0</td>\n",
              "      <td>0</td>\n",
              "      <td>0</td>\n",
              "      <td>0</td>\n",
              "      <td>13</td>\n",
              "      <td>17</td>\n",
              "      <td>33</td>\n",
              "      <td>0</td>\n",
              "      <td>0</td>\n",
              "      <td>0</td>\n",
              "      <td>0</td>\n",
              "      <td>0</td>\n",
              "      <td>0</td>\n",
              "      <td>0</td>\n",
              "      <td>0</td>\n",
              "      <td>0</td>\n",
              "      <td>0</td>\n",
              "      <td>0</td>\n",
              "      <td>0</td>\n",
              "      <td>0</td>\n",
              "      <td>0</td>\n",
              "      <td>0</td>\n",
              "      <td>0</td>\n",
              "      <td>0</td>\n",
              "      <td>0</td>\n",
              "      <td>0</td>\n",
              "      <td>0</td>\n",
              "      <td>0</td>\n",
              "      <td>0</td>\n",
              "      <td>0</td>\n",
              "      <td>0</td>\n",
              "      <td>0</td>\n",
              "      <td>0</td>\n",
              "      <td>0</td>\n",
              "      <td>0</td>\n",
              "      <td>0</td>\n",
              "      <td>0</td>\n",
              "      <td>0</td>\n",
              "      <td>33</td>\n",
              "    </tr>\n",
              "    <tr>\n",
              "      <th>3</th>\n",
              "      <td>Andhra Pradesh</td>\n",
              "      <td>East Godavari</td>\n",
              "      <td>2014</td>\n",
              "      <td>0</td>\n",
              "      <td>1</td>\n",
              "      <td>0</td>\n",
              "      <td>7</td>\n",
              "      <td>0</td>\n",
              "      <td>3</td>\n",
              "      <td>0</td>\n",
              "      <td>0</td>\n",
              "      <td>0</td>\n",
              "      <td>0</td>\n",
              "      <td>3</td>\n",
              "      <td>2</td>\n",
              "      <td>0</td>\n",
              "      <td>0</td>\n",
              "      <td>0</td>\n",
              "      <td>0</td>\n",
              "      <td>0</td>\n",
              "      <td>0</td>\n",
              "      <td>0</td>\n",
              "      <td>0</td>\n",
              "      <td>0</td>\n",
              "      <td>0</td>\n",
              "      <td>0</td>\n",
              "      <td>1</td>\n",
              "      <td>1</td>\n",
              "      <td>0</td>\n",
              "      <td>0</td>\n",
              "      <td>0</td>\n",
              "      <td>12</td>\n",
              "      <td>9</td>\n",
              "      <td>35</td>\n",
              "      <td>0</td>\n",
              "      <td>0</td>\n",
              "      <td>0</td>\n",
              "      <td>0</td>\n",
              "      <td>0</td>\n",
              "      <td>0</td>\n",
              "      <td>0</td>\n",
              "      <td>0</td>\n",
              "      <td>0</td>\n",
              "      <td>0</td>\n",
              "      <td>0</td>\n",
              "      <td>0</td>\n",
              "      <td>0</td>\n",
              "      <td>0</td>\n",
              "      <td>0</td>\n",
              "      <td>0</td>\n",
              "      <td>0</td>\n",
              "      <td>0</td>\n",
              "      <td>0</td>\n",
              "      <td>0</td>\n",
              "      <td>0</td>\n",
              "      <td>0</td>\n",
              "      <td>0</td>\n",
              "      <td>0</td>\n",
              "      <td>0</td>\n",
              "      <td>0</td>\n",
              "      <td>0</td>\n",
              "      <td>0</td>\n",
              "      <td>0</td>\n",
              "      <td>0</td>\n",
              "      <td>0</td>\n",
              "      <td>35</td>\n",
              "    </tr>\n",
              "    <tr>\n",
              "      <th>4</th>\n",
              "      <td>Andhra Pradesh</td>\n",
              "      <td>Guntakal Railway</td>\n",
              "      <td>2014</td>\n",
              "      <td>0</td>\n",
              "      <td>0</td>\n",
              "      <td>0</td>\n",
              "      <td>0</td>\n",
              "      <td>0</td>\n",
              "      <td>0</td>\n",
              "      <td>0</td>\n",
              "      <td>0</td>\n",
              "      <td>0</td>\n",
              "      <td>0</td>\n",
              "      <td>0</td>\n",
              "      <td>0</td>\n",
              "      <td>0</td>\n",
              "      <td>0</td>\n",
              "      <td>0</td>\n",
              "      <td>0</td>\n",
              "      <td>0</td>\n",
              "      <td>0</td>\n",
              "      <td>0</td>\n",
              "      <td>0</td>\n",
              "      <td>0</td>\n",
              "      <td>0</td>\n",
              "      <td>0</td>\n",
              "      <td>0</td>\n",
              "      <td>0</td>\n",
              "      <td>0</td>\n",
              "      <td>0</td>\n",
              "      <td>0</td>\n",
              "      <td>0</td>\n",
              "      <td>0</td>\n",
              "      <td>0</td>\n",
              "      <td>0</td>\n",
              "      <td>0</td>\n",
              "      <td>0</td>\n",
              "      <td>0</td>\n",
              "      <td>0</td>\n",
              "      <td>0</td>\n",
              "      <td>0</td>\n",
              "      <td>0</td>\n",
              "      <td>0</td>\n",
              "      <td>0</td>\n",
              "      <td>0</td>\n",
              "      <td>0</td>\n",
              "      <td>0</td>\n",
              "      <td>0</td>\n",
              "      <td>0</td>\n",
              "      <td>0</td>\n",
              "      <td>0</td>\n",
              "      <td>0</td>\n",
              "      <td>0</td>\n",
              "      <td>0</td>\n",
              "      <td>0</td>\n",
              "      <td>0</td>\n",
              "      <td>0</td>\n",
              "      <td>0</td>\n",
              "      <td>0</td>\n",
              "      <td>0</td>\n",
              "      <td>0</td>\n",
              "      <td>0</td>\n",
              "      <td>0</td>\n",
              "      <td>0</td>\n",
              "      <td>0</td>\n",
              "      <td>0</td>\n",
              "    </tr>\n",
              "    <tr>\n",
              "      <th>...</th>\n",
              "      <td>...</td>\n",
              "      <td>...</td>\n",
              "      <td>...</td>\n",
              "      <td>...</td>\n",
              "      <td>...</td>\n",
              "      <td>...</td>\n",
              "      <td>...</td>\n",
              "      <td>...</td>\n",
              "      <td>...</td>\n",
              "      <td>...</td>\n",
              "      <td>...</td>\n",
              "      <td>...</td>\n",
              "      <td>...</td>\n",
              "      <td>...</td>\n",
              "      <td>...</td>\n",
              "      <td>...</td>\n",
              "      <td>...</td>\n",
              "      <td>...</td>\n",
              "      <td>...</td>\n",
              "      <td>...</td>\n",
              "      <td>...</td>\n",
              "      <td>...</td>\n",
              "      <td>...</td>\n",
              "      <td>...</td>\n",
              "      <td>...</td>\n",
              "      <td>...</td>\n",
              "      <td>...</td>\n",
              "      <td>...</td>\n",
              "      <td>...</td>\n",
              "      <td>...</td>\n",
              "      <td>...</td>\n",
              "      <td>...</td>\n",
              "      <td>...</td>\n",
              "      <td>...</td>\n",
              "      <td>...</td>\n",
              "      <td>...</td>\n",
              "      <td>...</td>\n",
              "      <td>...</td>\n",
              "      <td>...</td>\n",
              "      <td>...</td>\n",
              "      <td>...</td>\n",
              "      <td>...</td>\n",
              "      <td>...</td>\n",
              "      <td>...</td>\n",
              "      <td>...</td>\n",
              "      <td>...</td>\n",
              "      <td>...</td>\n",
              "      <td>...</td>\n",
              "      <td>...</td>\n",
              "      <td>...</td>\n",
              "      <td>...</td>\n",
              "      <td>...</td>\n",
              "      <td>...</td>\n",
              "      <td>...</td>\n",
              "      <td>...</td>\n",
              "      <td>...</td>\n",
              "      <td>...</td>\n",
              "      <td>...</td>\n",
              "      <td>...</td>\n",
              "      <td>...</td>\n",
              "      <td>...</td>\n",
              "      <td>...</td>\n",
              "      <td>...</td>\n",
              "      <td>...</td>\n",
              "      <td>...</td>\n",
              "      <td>...</td>\n",
              "    </tr>\n",
              "    <tr>\n",
              "      <th>832</th>\n",
              "      <td>Lakshadweep</td>\n",
              "      <td>Lakshadweep</td>\n",
              "      <td>2014</td>\n",
              "      <td>0</td>\n",
              "      <td>0</td>\n",
              "      <td>0</td>\n",
              "      <td>0</td>\n",
              "      <td>0</td>\n",
              "      <td>0</td>\n",
              "      <td>0</td>\n",
              "      <td>0</td>\n",
              "      <td>0</td>\n",
              "      <td>0</td>\n",
              "      <td>0</td>\n",
              "      <td>0</td>\n",
              "      <td>0</td>\n",
              "      <td>0</td>\n",
              "      <td>0</td>\n",
              "      <td>0</td>\n",
              "      <td>0</td>\n",
              "      <td>0</td>\n",
              "      <td>0</td>\n",
              "      <td>0</td>\n",
              "      <td>0</td>\n",
              "      <td>0</td>\n",
              "      <td>0</td>\n",
              "      <td>0</td>\n",
              "      <td>0</td>\n",
              "      <td>0</td>\n",
              "      <td>0</td>\n",
              "      <td>0</td>\n",
              "      <td>0</td>\n",
              "      <td>0</td>\n",
              "      <td>0</td>\n",
              "      <td>0</td>\n",
              "      <td>0</td>\n",
              "      <td>0</td>\n",
              "      <td>0</td>\n",
              "      <td>0</td>\n",
              "      <td>0</td>\n",
              "      <td>0</td>\n",
              "      <td>0</td>\n",
              "      <td>0</td>\n",
              "      <td>0</td>\n",
              "      <td>0</td>\n",
              "      <td>0</td>\n",
              "      <td>0</td>\n",
              "      <td>0</td>\n",
              "      <td>0</td>\n",
              "      <td>0</td>\n",
              "      <td>0</td>\n",
              "      <td>0</td>\n",
              "      <td>0</td>\n",
              "      <td>0</td>\n",
              "      <td>0</td>\n",
              "      <td>0</td>\n",
              "      <td>0</td>\n",
              "      <td>0</td>\n",
              "      <td>0</td>\n",
              "      <td>0</td>\n",
              "      <td>0</td>\n",
              "      <td>0</td>\n",
              "      <td>0</td>\n",
              "      <td>0</td>\n",
              "      <td>0</td>\n",
              "      <td>0</td>\n",
              "    </tr>\n",
              "    <tr>\n",
              "      <th>833</th>\n",
              "      <td>Lakshadweep</td>\n",
              "      <td>Total</td>\n",
              "      <td>2014</td>\n",
              "      <td>0</td>\n",
              "      <td>0</td>\n",
              "      <td>0</td>\n",
              "      <td>0</td>\n",
              "      <td>0</td>\n",
              "      <td>0</td>\n",
              "      <td>0</td>\n",
              "      <td>0</td>\n",
              "      <td>0</td>\n",
              "      <td>0</td>\n",
              "      <td>0</td>\n",
              "      <td>0</td>\n",
              "      <td>0</td>\n",
              "      <td>0</td>\n",
              "      <td>0</td>\n",
              "      <td>0</td>\n",
              "      <td>0</td>\n",
              "      <td>0</td>\n",
              "      <td>0</td>\n",
              "      <td>0</td>\n",
              "      <td>0</td>\n",
              "      <td>0</td>\n",
              "      <td>0</td>\n",
              "      <td>0</td>\n",
              "      <td>0</td>\n",
              "      <td>0</td>\n",
              "      <td>0</td>\n",
              "      <td>0</td>\n",
              "      <td>0</td>\n",
              "      <td>0</td>\n",
              "      <td>0</td>\n",
              "      <td>0</td>\n",
              "      <td>0</td>\n",
              "      <td>0</td>\n",
              "      <td>0</td>\n",
              "      <td>0</td>\n",
              "      <td>0</td>\n",
              "      <td>0</td>\n",
              "      <td>0</td>\n",
              "      <td>0</td>\n",
              "      <td>0</td>\n",
              "      <td>0</td>\n",
              "      <td>0</td>\n",
              "      <td>0</td>\n",
              "      <td>0</td>\n",
              "      <td>0</td>\n",
              "      <td>0</td>\n",
              "      <td>0</td>\n",
              "      <td>0</td>\n",
              "      <td>0</td>\n",
              "      <td>0</td>\n",
              "      <td>0</td>\n",
              "      <td>0</td>\n",
              "      <td>0</td>\n",
              "      <td>0</td>\n",
              "      <td>0</td>\n",
              "      <td>0</td>\n",
              "      <td>0</td>\n",
              "      <td>0</td>\n",
              "      <td>0</td>\n",
              "      <td>0</td>\n",
              "      <td>0</td>\n",
              "      <td>0</td>\n",
              "    </tr>\n",
              "    <tr>\n",
              "      <th>834</th>\n",
              "      <td>Puducherry</td>\n",
              "      <td>Karaikal</td>\n",
              "      <td>2014</td>\n",
              "      <td>0</td>\n",
              "      <td>0</td>\n",
              "      <td>0</td>\n",
              "      <td>0</td>\n",
              "      <td>0</td>\n",
              "      <td>0</td>\n",
              "      <td>0</td>\n",
              "      <td>0</td>\n",
              "      <td>0</td>\n",
              "      <td>0</td>\n",
              "      <td>0</td>\n",
              "      <td>0</td>\n",
              "      <td>0</td>\n",
              "      <td>0</td>\n",
              "      <td>0</td>\n",
              "      <td>0</td>\n",
              "      <td>0</td>\n",
              "      <td>0</td>\n",
              "      <td>0</td>\n",
              "      <td>0</td>\n",
              "      <td>0</td>\n",
              "      <td>0</td>\n",
              "      <td>0</td>\n",
              "      <td>0</td>\n",
              "      <td>0</td>\n",
              "      <td>0</td>\n",
              "      <td>0</td>\n",
              "      <td>0</td>\n",
              "      <td>0</td>\n",
              "      <td>0</td>\n",
              "      <td>0</td>\n",
              "      <td>0</td>\n",
              "      <td>0</td>\n",
              "      <td>0</td>\n",
              "      <td>0</td>\n",
              "      <td>0</td>\n",
              "      <td>0</td>\n",
              "      <td>0</td>\n",
              "      <td>0</td>\n",
              "      <td>0</td>\n",
              "      <td>0</td>\n",
              "      <td>0</td>\n",
              "      <td>0</td>\n",
              "      <td>0</td>\n",
              "      <td>0</td>\n",
              "      <td>0</td>\n",
              "      <td>0</td>\n",
              "      <td>0</td>\n",
              "      <td>0</td>\n",
              "      <td>0</td>\n",
              "      <td>0</td>\n",
              "      <td>0</td>\n",
              "      <td>0</td>\n",
              "      <td>0</td>\n",
              "      <td>0</td>\n",
              "      <td>0</td>\n",
              "      <td>0</td>\n",
              "      <td>0</td>\n",
              "      <td>0</td>\n",
              "      <td>0</td>\n",
              "      <td>0</td>\n",
              "      <td>0</td>\n",
              "      <td>0</td>\n",
              "    </tr>\n",
              "    <tr>\n",
              "      <th>835</th>\n",
              "      <td>Puducherry</td>\n",
              "      <td>Puducherry</td>\n",
              "      <td>2014</td>\n",
              "      <td>0</td>\n",
              "      <td>0</td>\n",
              "      <td>0</td>\n",
              "      <td>0</td>\n",
              "      <td>0</td>\n",
              "      <td>1</td>\n",
              "      <td>1</td>\n",
              "      <td>0</td>\n",
              "      <td>0</td>\n",
              "      <td>0</td>\n",
              "      <td>0</td>\n",
              "      <td>0</td>\n",
              "      <td>0</td>\n",
              "      <td>0</td>\n",
              "      <td>0</td>\n",
              "      <td>0</td>\n",
              "      <td>0</td>\n",
              "      <td>0</td>\n",
              "      <td>0</td>\n",
              "      <td>0</td>\n",
              "      <td>0</td>\n",
              "      <td>0</td>\n",
              "      <td>0</td>\n",
              "      <td>0</td>\n",
              "      <td>0</td>\n",
              "      <td>0</td>\n",
              "      <td>0</td>\n",
              "      <td>0</td>\n",
              "      <td>0</td>\n",
              "      <td>0</td>\n",
              "      <td>1</td>\n",
              "      <td>0</td>\n",
              "      <td>0</td>\n",
              "      <td>0</td>\n",
              "      <td>0</td>\n",
              "      <td>0</td>\n",
              "      <td>0</td>\n",
              "      <td>0</td>\n",
              "      <td>0</td>\n",
              "      <td>0</td>\n",
              "      <td>0</td>\n",
              "      <td>0</td>\n",
              "      <td>0</td>\n",
              "      <td>0</td>\n",
              "      <td>0</td>\n",
              "      <td>0</td>\n",
              "      <td>0</td>\n",
              "      <td>0</td>\n",
              "      <td>0</td>\n",
              "      <td>0</td>\n",
              "      <td>0</td>\n",
              "      <td>0</td>\n",
              "      <td>0</td>\n",
              "      <td>0</td>\n",
              "      <td>0</td>\n",
              "      <td>0</td>\n",
              "      <td>0</td>\n",
              "      <td>0</td>\n",
              "      <td>0</td>\n",
              "      <td>0</td>\n",
              "      <td>0</td>\n",
              "      <td>1</td>\n",
              "      <td>2</td>\n",
              "    </tr>\n",
              "    <tr>\n",
              "      <th>836</th>\n",
              "      <td>Puducherry</td>\n",
              "      <td>Total</td>\n",
              "      <td>2014</td>\n",
              "      <td>0</td>\n",
              "      <td>0</td>\n",
              "      <td>0</td>\n",
              "      <td>0</td>\n",
              "      <td>0</td>\n",
              "      <td>1</td>\n",
              "      <td>1</td>\n",
              "      <td>0</td>\n",
              "      <td>0</td>\n",
              "      <td>0</td>\n",
              "      <td>0</td>\n",
              "      <td>0</td>\n",
              "      <td>0</td>\n",
              "      <td>0</td>\n",
              "      <td>0</td>\n",
              "      <td>0</td>\n",
              "      <td>0</td>\n",
              "      <td>0</td>\n",
              "      <td>0</td>\n",
              "      <td>0</td>\n",
              "      <td>0</td>\n",
              "      <td>0</td>\n",
              "      <td>0</td>\n",
              "      <td>0</td>\n",
              "      <td>0</td>\n",
              "      <td>0</td>\n",
              "      <td>0</td>\n",
              "      <td>0</td>\n",
              "      <td>0</td>\n",
              "      <td>0</td>\n",
              "      <td>1</td>\n",
              "      <td>0</td>\n",
              "      <td>0</td>\n",
              "      <td>0</td>\n",
              "      <td>0</td>\n",
              "      <td>0</td>\n",
              "      <td>0</td>\n",
              "      <td>0</td>\n",
              "      <td>0</td>\n",
              "      <td>0</td>\n",
              "      <td>0</td>\n",
              "      <td>0</td>\n",
              "      <td>0</td>\n",
              "      <td>0</td>\n",
              "      <td>0</td>\n",
              "      <td>0</td>\n",
              "      <td>0</td>\n",
              "      <td>0</td>\n",
              "      <td>0</td>\n",
              "      <td>0</td>\n",
              "      <td>0</td>\n",
              "      <td>0</td>\n",
              "      <td>0</td>\n",
              "      <td>0</td>\n",
              "      <td>0</td>\n",
              "      <td>0</td>\n",
              "      <td>0</td>\n",
              "      <td>0</td>\n",
              "      <td>0</td>\n",
              "      <td>0</td>\n",
              "      <td>0</td>\n",
              "      <td>1</td>\n",
              "      <td>2</td>\n",
              "    </tr>\n",
              "  </tbody>\n",
              "</table>\n",
              "<p>837 rows × 66 columns</p>\n",
              "</div>"
            ],
            "text/plain": [
              "         States/UTs  ... Total crimes against STs\n",
              "0    Andhra Pradesh  ...                       23\n",
              "1    Andhra Pradesh  ...                       17\n",
              "2    Andhra Pradesh  ...                       33\n",
              "3    Andhra Pradesh  ...                       35\n",
              "4    Andhra Pradesh  ...                        0\n",
              "..              ...  ...                      ...\n",
              "832     Lakshadweep  ...                        0\n",
              "833     Lakshadweep  ...                        0\n",
              "834      Puducherry  ...                        0\n",
              "835      Puducherry  ...                        2\n",
              "836      Puducherry  ...                        2\n",
              "\n",
              "[837 rows x 66 columns]"
            ]
          },
          "metadata": {
            "tags": []
          },
          "execution_count": 4
        }
      ]
    },
    {
      "cell_type": "code",
      "metadata": {
        "id": "7sdPANsHnvGk"
      },
      "source": [
        "crime_rates.describe()"
      ],
      "execution_count": null,
      "outputs": []
    },
    {
      "cell_type": "code",
      "metadata": {
        "id": "vSHWACx2n7Ng"
      },
      "source": [
        "crime_rates.info()"
      ],
      "execution_count": null,
      "outputs": []
    },
    {
      "cell_type": "code",
      "metadata": {
        "id": "wdc0XWAbN0AR"
      },
      "source": [
        "crime_type=crime_rates.groupby(\"States/UTs\").sum()\n",
        "crime_type.drop(\"Year\",axis=1)"
      ],
      "execution_count": null,
      "outputs": []
    },
    {
      "cell_type": "code",
      "metadata": {
        "id": "T4DiABvgO3vb"
      },
      "source": [
        "total_crime=crime_type['Total of SC/ST (Prevention of Atrocities) Act ,1989']\n",
        "fig = plt.figure()\n",
        "az = fig.add_subplot(111)\n",
        " \n",
        "total_crime.plot.bar(figsize=(15,6),color='green')\n",
        "az.set_title('Total of SC/ST (Prevention of Atrocities) Act ,1989')"
      ],
      "execution_count": null,
      "outputs": []
    },
    {
      "cell_type": "code",
      "metadata": {
        "id": "TCclCoY2QEu0"
      },
      "source": [
        "total_crime=crime_type['Total IPC Crimes against STs']\n",
        "fig = plt.figure()\n",
        "az = fig.add_subplot(111)\n",
        " \n",
        "total_crime.plot.bar(figsize=(15,6),color='yellow')\n",
        "az.set_title('Total IPC Crimes against STs')"
      ],
      "execution_count": null,
      "outputs": []
    },
    {
      "cell_type": "code",
      "metadata": {
        "id": "7g9Lou9SSxUi"
      },
      "source": [
        "\n",
        "total_crime=crime_type['Total crimes against STs']\n",
        "fig = plt.figure()\n",
        "az = fig.add_subplot(111)\n",
        "\n",
        "total_crime.plot.bar(figsize=(20,10),color='blue')\n",
        "az.set_title('Total crimes against STs')\n"
      ],
      "execution_count": null,
      "outputs": []
    },
    {
      "cell_type": "markdown",
      "metadata": {
        "id": "9VcTaPEcW5D8"
      },
      "source": [
        "***Total of SC/ST (Prevention of Atrocities) Act ,1989\tIN DIFFERENT STATES***"
      ]
    },
    {
      "cell_type": "code",
      "metadata": {
        "id": "lg7jYfXdTpcC"
      },
      "source": [
        "andhra_cases=crime_rates[crime_rates['States/UTs']==\"Andhra Pradesh\"]\n",
        "\n",
        "a=andhra_cases.groupby(\"District\").sum()\n",
        "a.drop('Year',axis=1,inplace=True)\n",
        "a\n"
      ],
      "execution_count": null,
      "outputs": []
    },
    {
      "cell_type": "markdown",
      "metadata": {
        "id": "TW4H-BHq1iLt"
      },
      "source": [
        "ANDHRA PRADESH\n"
      ]
    },
    {
      "cell_type": "code",
      "metadata": {
        "id": "FDnf4ZNxvba5"
      },
      "source": [
        "aa=a['Total of SC/ST (Prevention of Atrocities) Act ,1989']\n",
        "plt.subplots(figsize = (20, 15))\n",
        "az=aa.plot.barh(color='maroon')\n",
        "az.set_title(\" Andhra Pradesh\")"
      ],
      "execution_count": null,
      "outputs": []
    },
    {
      "cell_type": "code",
      "metadata": {
        "id": "f3Y1DSZWvbg1"
      },
      "source": [
        "ab=a['Total IPC Crimes against STs']\n",
        "plt.subplots(figsize = (20, 15))\n",
        "ay=ab.plot.barh(color='grey')\n",
        "ay.set_title(\" Andhra Pradesh\")"
      ],
      "execution_count": null,
      "outputs": []
    },
    {
      "cell_type": "code",
      "metadata": {
        "id": "RIN-8JDQxVRK"
      },
      "source": [
        "ac=a['Total crimes against STs']\n",
        "plt.subplots(figsize = (20, 15))\n",
        "ax=ac.plot.barh(color='pink')\n",
        "ax.set_title(\"Andhra Pradesh\")"
      ],
      "execution_count": null,
      "outputs": []
    },
    {
      "cell_type": "markdown",
      "metadata": {
        "id": "AeZ3ELOH1mnT"
      },
      "source": [
        "ANDAMAN AND NICOBAR ISLANDS\n",
        "\n"
      ]
    },
    {
      "cell_type": "code",
      "metadata": {
        "id": "mv2J3HkVZbz-"
      },
      "source": [
        "a_n=crime_rates[crime_rates['States/UTs']==\"A&N Islands\"]\n",
        "b=a_n.groupby(\"District\").sum()\n",
        "b.drop('Year',axis=1,inplace=True)\n",
        "b\n"
      ],
      "execution_count": null,
      "outputs": []
    },
    {
      "cell_type": "code",
      "metadata": {
        "id": "5-EddvhcymcR"
      },
      "source": [
        "ad=b['Total of SC/ST (Prevention of Atrocities) Act ,1989']\n",
        "plt.subplots(figsize = (20, 15))\n",
        "aw=ad.plot.barh(color='maroon')\n",
        "aw.set_title(\" A&N Islands\")"
      ],
      "execution_count": null,
      "outputs": []
    },
    {
      "cell_type": "code",
      "metadata": {
        "id": "h3d-er6pymiO"
      },
      "source": [
        "ae=b['Total IPC Crimes against STs']\n",
        "plt.subplots(figsize = (20, 15))\n",
        "av=ae.plot.barh(color='grey')\n",
        "av.set_title(\" A&N Islands\")"
      ],
      "execution_count": null,
      "outputs": []
    },
    {
      "cell_type": "code",
      "metadata": {
        "id": "XQXXUWQOymnF"
      },
      "source": [
        "af=b['Total crimes against STs']\n",
        "plt.subplots(figsize = (20, 15))\n",
        "au=af.plot.barh(color='pink')\n",
        "au.set_title(\"A&N Islands\")"
      ],
      "execution_count": null,
      "outputs": []
    },
    {
      "cell_type": "markdown",
      "metadata": {
        "id": "3wZoV2hg1sH4"
      },
      "source": [
        "ARUNACHAL PRADESH"
      ]
    },
    {
      "cell_type": "code",
      "metadata": {
        "id": "F-SpcsUwZb5f"
      },
      "source": [
        "arunachal_cases=crime_rates[crime_rates['States/UTs']==\"Arunachal Pradesh\"]\n",
        "\n",
        "c=arunachal_cases.groupby(\"District\").sum()\n",
        "c.drop('Year',axis=1,inplace=True)\n",
        "c\n"
      ],
      "execution_count": null,
      "outputs": []
    },
    {
      "cell_type": "code",
      "metadata": {
        "id": "pUaCYWT11gDh"
      },
      "source": [
        "ag=c['Total of SC/ST (Prevention of Atrocities) Act ,1989']\n",
        "plt.subplots(figsize = (20, 15))\n",
        "at=ag.plot.barh(color='maroon')\n",
        "at.set_title(\" Arunachal Pradesh\")"
      ],
      "execution_count": null,
      "outputs": []
    },
    {
      "cell_type": "code",
      "metadata": {
        "id": "EtX1a7Mh1gKX"
      },
      "source": [
        "ah=c['Total IPC Crimes against STs']\n",
        "plt.subplots(figsize = (20, 15))\n",
        "ar=ah.plot.barh(color='grey')\n",
        "ar.set_title(\" Arunachal Pradesh\")"
      ],
      "execution_count": null,
      "outputs": []
    },
    {
      "cell_type": "code",
      "metadata": {
        "id": "RDFkpspF1gPH"
      },
      "source": [
        "ai=c['Total crimes against STs']\n",
        "plt.subplots(figsize = (20, 15))\n",
        "aq=ai.plot.barh(color='pink')\n",
        "aq.set_title(\"Arunachal Pradesh\")"
      ],
      "execution_count": null,
      "outputs": []
    },
    {
      "cell_type": "markdown",
      "metadata": {
        "id": "awSfbR6P5j3T"
      },
      "source": [
        "ASSAM"
      ]
    },
    {
      "cell_type": "code",
      "metadata": {
        "id": "4-mB6F1QZb84"
      },
      "source": [
        "assam_cases=crime_rates[crime_rates['States/UTs']==\"Assam\"]\n",
        "\n",
        "d=assam_cases.groupby(\"District\").sum()\n",
        "d.drop('Year',axis=1,inplace=True)\n",
        "d\n"
      ],
      "execution_count": null,
      "outputs": []
    },
    {
      "cell_type": "code",
      "metadata": {
        "id": "2cH4KX8u6CuP"
      },
      "source": [
        "aj=d['Total of SC/ST (Prevention of Atrocities) Act ,1989']\n",
        "plt.subplots(figsize = (20, 15))\n",
        "ap=aj.plot.barh(color='maroon')\n",
        "ap.set_title(\" Assam\")"
      ],
      "execution_count": null,
      "outputs": []
    },
    {
      "cell_type": "code",
      "metadata": {
        "id": "1s6CaPPd6C0K"
      },
      "source": [
        "ak=d['Total IPC Crimes against STs']\n",
        "plt.subplots(figsize = (20, 15))\n",
        "ao=ak.plot.barh(color='grey')\n",
        "ao.set_title(\" Assam\")"
      ],
      "execution_count": null,
      "outputs": []
    },
    {
      "cell_type": "code",
      "metadata": {
        "id": "f0vJMudW6C50"
      },
      "source": [
        "al=d['Total crimes against STs']\n",
        "plt.subplots(figsize = (20, 15))\n",
        "an=al.plot.barh(color='pink')\n",
        "an.set_title(\"Assam\")"
      ],
      "execution_count": null,
      "outputs": []
    },
    {
      "cell_type": "markdown",
      "metadata": {
        "id": "80T7HEAG6200"
      },
      "source": [
        "BIHAR"
      ]
    },
    {
      "cell_type": "code",
      "metadata": {
        "id": "CtvmgsizZb_-"
      },
      "source": [
        "bihar_cases=crime_rates[crime_rates['States/UTs']==\"Bihar\"]\n",
        "\n",
        "e=bihar_cases.groupby(\"District\").sum()\n",
        "e.drop('Year',axis=1,inplace=True)\n",
        "e\n"
      ],
      "execution_count": null,
      "outputs": []
    },
    {
      "cell_type": "code",
      "metadata": {
        "id": "kQwIJ9fa7FkV"
      },
      "source": [
        "am=e['Total of SC/ST (Prevention of Atrocities) Act ,1989']\n",
        "plt.subplots(figsize = (20, 15))\n",
        "ba=am.plot.barh(color='maroon')\n",
        "ba.set_title(\" Bihar\")"
      ],
      "execution_count": null,
      "outputs": []
    },
    {
      "cell_type": "code",
      "metadata": {
        "id": "U17Yzsao7FqN"
      },
      "source": [
        "bb=e['Total IPC Crimes against STs']\n",
        "plt.subplots(figsize = (20, 15))\n",
        "bz=bb.plot.barh(color='grey')\n",
        "bz.set_title(\" Bihar\")"
      ],
      "execution_count": null,
      "outputs": []
    },
    {
      "cell_type": "code",
      "metadata": {
        "id": "kOomRAyC7FuN"
      },
      "source": [
        "bc=e['Total crimes against STs']\n",
        "plt.subplots(figsize = (20, 15))\n",
        "by=bc.plot.barh(color='pink')\n",
        "by.set_title(\"Bihar\")"
      ],
      "execution_count": null,
      "outputs": []
    },
    {
      "cell_type": "markdown",
      "metadata": {
        "id": "EXkeDhsS7Njv"
      },
      "source": [
        "CHANDIGARH"
      ]
    },
    {
      "cell_type": "code",
      "metadata": {
        "id": "zTB-m08tZcC2"
      },
      "source": [
        "chandigarh_cases=crime_rates[crime_rates['States/UTs']==\"Chandigarh\"]\n",
        "\n",
        "f=chandigarh_cases.groupby(\"District\").sum()\n",
        "f.drop('Year',axis=1,inplace=True)\n",
        "f\n"
      ],
      "execution_count": null,
      "outputs": []
    },
    {
      "cell_type": "code",
      "metadata": {
        "id": "Qvkepu4w8JT1"
      },
      "source": [
        "bd=f['Total of SC/ST (Prevention of Atrocities) Act ,1989']\n",
        "plt.subplots(figsize = (20, 15))\n",
        "bx=bd.plot.barh(color='maroon')\n",
        "bx.set_title(\" Chandigarh\")"
      ],
      "execution_count": null,
      "outputs": []
    },
    {
      "cell_type": "code",
      "metadata": {
        "id": "p_NOhIoi8JW9"
      },
      "source": [
        "be=f['Total IPC Crimes against STs']\n",
        "plt.subplots(figsize = (20, 15))\n",
        "bw=be.plot.barh(color='grey')\n",
        "bw.set_title(\" Chandigarh\")"
      ],
      "execution_count": null,
      "outputs": []
    },
    {
      "cell_type": "code",
      "metadata": {
        "id": "-LFWmebI8Jlf"
      },
      "source": [
        "bf=f['Total crimes against STs']\n",
        "plt.subplots(figsize = (20, 15))\n",
        "bv=bf.plot.barh(color='pink')\n",
        "bv.set_title(\"Chandigarh\")"
      ],
      "execution_count": null,
      "outputs": []
    },
    {
      "cell_type": "markdown",
      "metadata": {
        "id": "P85XVE_O8RGh"
      },
      "source": [
        "Chhattisgarh"
      ]
    },
    {
      "cell_type": "code",
      "metadata": {
        "id": "Fe3w5qKyZcGD"
      },
      "source": [
        "chattisgarh_cases=crime_rates[crime_rates['States/UTs']==\"Chhattisgarh\"]\n",
        "\n",
        "g=chattisgarh_cases.groupby(\"District\").sum()\n",
        "g.drop('Year',axis=1,inplace=True)\n",
        "g\n"
      ],
      "execution_count": null,
      "outputs": []
    },
    {
      "cell_type": "code",
      "metadata": {
        "id": "pgTL8UnK-LmN"
      },
      "source": [
        "bg=g['Total of SC/ST (Prevention of Atrocities) Act ,1989']\n",
        "plt.subplots(figsize = (20, 15))\n",
        "bu=bg.plot.barh(color='maroon')\n",
        "bu.set_title(\" Chhattisgarh\")"
      ],
      "execution_count": null,
      "outputs": []
    },
    {
      "cell_type": "code",
      "metadata": {
        "id": "2kPbcsS9-Lsu"
      },
      "source": [
        "bh=g['Total IPC Crimes against STs']\n",
        "plt.subplots(figsize = (20, 15))\n",
        "bt=bh.plot.barh(color='grey')\n",
        "bt.set_title(\" Chhattisgarh\")"
      ],
      "execution_count": null,
      "outputs": []
    },
    {
      "cell_type": "code",
      "metadata": {
        "id": "V9LmIFEa-Lyf"
      },
      "source": [
        "bi=g['Total crimes against STs']\n",
        "plt.subplots(figsize = (20, 15))\n",
        "bs=bi.plot.barh(color='pink')\n",
        "bs.set_title(\"Chhattisgarh\")"
      ],
      "execution_count": null,
      "outputs": []
    },
    {
      "cell_type": "markdown",
      "metadata": {
        "id": "u8reKooo-ZVM"
      },
      "source": [
        "D&N HAVELI"
      ]
    },
    {
      "cell_type": "code",
      "metadata": {
        "id": "0J-6I9-GZcIu"
      },
      "source": [
        "d_n=crime_rates[crime_rates['States/UTs']==\"D&N Haveli\"]\n",
        "\n",
        "h=d_n.groupby(\"District\").sum()\n",
        "h.drop('Year',axis=1,inplace=True)\n",
        "h\n"
      ],
      "execution_count": null,
      "outputs": []
    },
    {
      "cell_type": "code",
      "metadata": {
        "id": "0Z-CuDsH_W1d"
      },
      "source": [
        "bj=h['Total of SC/ST (Prevention of Atrocities) Act ,1989']\n",
        "plt.subplots(figsize = (20, 15))\n",
        "br=bj.plot.barh(color='maroon')\n",
        "br.set_title(\" D&N HAVELI\")"
      ],
      "execution_count": null,
      "outputs": []
    },
    {
      "cell_type": "code",
      "metadata": {
        "id": "2ZAwN6F8_W4o"
      },
      "source": [
        "bk=h['Total IPC Crimes against STs']\n",
        "plt.subplots(figsize = (20, 15))\n",
        "bq=bk.plot.barh(color='grey')\n",
        "bq.set_title(\" D&N HAVELI\")"
      ],
      "execution_count": null,
      "outputs": []
    },
    {
      "cell_type": "code",
      "metadata": {
        "id": "FnRvQoXq_W7u"
      },
      "source": [
        "bl=h['Total crimes against STs']\n",
        "plt.subplots(figsize = (20, 15))\n",
        "bp=bl.plot.barh(color='pink')\n",
        "bp.set_title(\"D&N HAVELI\")"
      ],
      "execution_count": null,
      "outputs": []
    },
    {
      "cell_type": "markdown",
      "metadata": {
        "id": "WWj5LcrAAOK-"
      },
      "source": [
        "DAMAN AND DIU"
      ]
    },
    {
      "cell_type": "code",
      "metadata": {
        "id": "R59IctGuZcL0"
      },
      "source": [
        "d_u=crime_rates[crime_rates['States/UTs']==\"Daman & Diu\"]\n",
        "\n",
        "i=d_u.groupby(\"District\").sum()\n",
        "i.drop('Year',axis=1,inplace=True)\n",
        "i\n"
      ],
      "execution_count": null,
      "outputs": []
    },
    {
      "cell_type": "code",
      "metadata": {
        "id": "zLyNHeQ-AcsM"
      },
      "source": [
        "bm=i['Total of SC/ST (Prevention of Atrocities) Act ,1989']\n",
        "plt.subplots(figsize = (20, 15))\n",
        "bo=bm.plot.barh(color='maroon')\n",
        "bo.set_title(\" DAMAN AND DIU\")"
      ],
      "execution_count": null,
      "outputs": []
    },
    {
      "cell_type": "code",
      "metadata": {
        "id": "0OLyaIbAAcyw"
      },
      "source": [
        "ca=i['Total IPC Crimes against STs']\n",
        "plt.subplots(figsize = (20, 15))\n",
        "cz=ca.plot.barh(color='grey')\n",
        "cz.set_title(\" DAMAN AND DIU\")"
      ],
      "execution_count": null,
      "outputs": []
    },
    {
      "cell_type": "code",
      "metadata": {
        "id": "DVAk19w_Ac2s"
      },
      "source": [
        "cb=i['Total crimes against STs']\n",
        "plt.subplots(figsize = (20, 15))\n",
        "cy=cb.plot.barh(color='pink')\n",
        "cy.set_title(\"DAMAN AND DIU\")"
      ],
      "execution_count": null,
      "outputs": []
    },
    {
      "cell_type": "markdown",
      "metadata": {
        "id": "DTcG2UADAdgy"
      },
      "source": [
        "DELHI"
      ]
    },
    {
      "cell_type": "code",
      "metadata": {
        "id": "wSKyyEXzZcOj"
      },
      "source": [
        "delhi_cases=crime_rates[crime_rates['States/UTs']==\"Delhi UT\"]\n",
        "\n",
        "j=delhi_cases.groupby(\"District\").sum()\n",
        "j.drop('Year',axis=1,inplace=True)\n",
        "j\n"
      ],
      "execution_count": null,
      "outputs": []
    },
    {
      "cell_type": "code",
      "metadata": {
        "id": "WjqrnOn4BU63"
      },
      "source": [
        "cc=j['Total of SC/ST (Prevention of Atrocities) Act ,1989']\n",
        "plt.subplots(figsize = (20, 15))\n",
        "cx=cc.plot.barh(color='maroon')\n",
        "cx.set_title(\" DELHI\")"
      ],
      "execution_count": null,
      "outputs": []
    },
    {
      "cell_type": "code",
      "metadata": {
        "id": "DlvdbdZABU_E"
      },
      "source": [
        "cd=j['Total IPC Crimes against STs']\n",
        "plt.subplots(figsize = (20, 15))\n",
        "cw=cd.plot.barh(color='grey')\n",
        "cw.set_title(\" DELHI\")"
      ],
      "execution_count": null,
      "outputs": []
    },
    {
      "cell_type": "code",
      "metadata": {
        "id": "RJ06_KpDBVCd"
      },
      "source": [
        "ce=j['Total crimes against STs']\n",
        "plt.subplots(figsize = (20, 15))\n",
        "cv=ce.plot.barh(color='pink')\n",
        "cv.set_title(\"DELHI\")"
      ],
      "execution_count": null,
      "outputs": []
    },
    {
      "cell_type": "markdown",
      "metadata": {
        "id": "4hAs4KzJBVbi"
      },
      "source": [
        "GOA"
      ]
    },
    {
      "cell_type": "code",
      "metadata": {
        "id": "KgWN87ZPZcRK"
      },
      "source": [
        "goa=crime_rates[crime_rates['States/UTs']==\"Goa\"]\n",
        "\n",
        "k=goa.groupby(\"District\").sum()\n",
        "k.drop('Year',axis=1,inplace=True)\n",
        "k\n"
      ],
      "execution_count": null,
      "outputs": []
    },
    {
      "cell_type": "code",
      "metadata": {
        "id": "4cYUncxZCShw"
      },
      "source": [
        "cf=k['Total of SC/ST (Prevention of Atrocities) Act ,1989']\n",
        "plt.subplots(figsize = (20, 15))\n",
        "cu=cf.plot.barh(color='maroon')\n",
        "cu.set_title(\" GOA\")"
      ],
      "execution_count": null,
      "outputs": []
    },
    {
      "cell_type": "code",
      "metadata": {
        "id": "3LU7hXMyCSlF"
      },
      "source": [
        "cg=k['Total IPC Crimes against STs']\n",
        "plt.subplots(figsize = (20, 15))\n",
        "ct=cg.plot.barh(color='grey')\n",
        "ct.set_title(\" GOA\")"
      ],
      "execution_count": null,
      "outputs": []
    },
    {
      "cell_type": "code",
      "metadata": {
        "id": "ZW73cgrJCSoj"
      },
      "source": [
        "cg=k['Total crimes against STs']\n",
        "plt.subplots(figsize = (20, 15))\n",
        "cs=cg.plot.barh(color='pink')\n",
        "cs.set_title(\"GOA\")"
      ],
      "execution_count": null,
      "outputs": []
    },
    {
      "cell_type": "markdown",
      "metadata": {
        "id": "sB0wREoWCS0e"
      },
      "source": [
        "GUJARAT\n"
      ]
    },
    {
      "cell_type": "code",
      "metadata": {
        "id": "h2qJaFHFZcXL"
      },
      "source": [
        "gujarat_cases=crime_rates[crime_rates['States/UTs']==\"Gujarat\"]\n",
        "\n",
        "l=gujarat_cases.groupby(\"District\").sum()\n",
        "l.drop('Year',axis=1,inplace=True)\n",
        "l\n"
      ],
      "execution_count": null,
      "outputs": []
    },
    {
      "cell_type": "code",
      "metadata": {
        "id": "iNzk09P3G-lQ"
      },
      "source": [
        "ch=l['Total of SC/ST (Prevention of Atrocities) Act ,1989']\n",
        "plt.subplots(figsize = (20, 15))\n",
        "cr=ch.plot.barh(color='maroon')\n",
        "cr.set_title(\" GUJARAT\")"
      ],
      "execution_count": null,
      "outputs": []
    },
    {
      "cell_type": "code",
      "metadata": {
        "id": "xq9zt7L_G-ry"
      },
      "source": [
        "ci=l['Total IPC Crimes against STs']\n",
        "plt.subplots(figsize = (20, 15))\n",
        "cq=ci.plot.barh(color='grey')\n",
        "cq.set_title(\" GUJARAT\")"
      ],
      "execution_count": null,
      "outputs": []
    },
    {
      "cell_type": "code",
      "metadata": {
        "id": "Eeg9lcubG-z0"
      },
      "source": [
        "cj=l['Total crimes against STs']\n",
        "plt.subplots(figsize = (20, 15))\n",
        "cp=cj.plot.barh(color='pink')\n",
        "cp.set_title(\"GUJARAT\")"
      ],
      "execution_count": null,
      "outputs": []
    },
    {
      "cell_type": "markdown",
      "metadata": {
        "id": "KkwtetYKG_By"
      },
      "source": [
        "HARYANA"
      ]
    },
    {
      "cell_type": "code",
      "metadata": {
        "id": "8lN5UHjdZcaQ"
      },
      "source": [
        "haryana_cases=crime_rates[crime_rates['States/UTs']==\"Haryana\"]\n",
        "\n",
        "m=haryana_cases.groupby(\"District\").sum()\n",
        "m.drop('Year',axis=1,inplace=True)\n",
        "m\n"
      ],
      "execution_count": null,
      "outputs": []
    },
    {
      "cell_type": "code",
      "metadata": {
        "id": "Bj1ZK_ehII6d"
      },
      "source": [
        "ck=m['Total of SC/ST (Prevention of Atrocities) Act ,1989']\n",
        "plt.subplots(figsize = (20, 15))\n",
        "co=ck.plot.barh(color='maroon')\n",
        "co.set_title(\" HARYANA\")"
      ],
      "execution_count": null,
      "outputs": []
    },
    {
      "cell_type": "code",
      "metadata": {
        "id": "iqZYjFTnII9W"
      },
      "source": [
        "cm=m['Total IPC Crimes against STs']\n",
        "plt.subplots(figsize = (20, 15))\n",
        "cn=cm.plot.barh(color='grey')\n",
        "cn.set_title(\" HARYANA\")"
      ],
      "execution_count": null,
      "outputs": []
    },
    {
      "cell_type": "code",
      "metadata": {
        "id": "FO8mcUdXIJAU"
      },
      "source": [
        "da=m['Total crimes against STs']\n",
        "plt.subplots(figsize = (20, 15))\n",
        "dz=da.plot.barh(color='pink')\n",
        "dz.set_title(\"HARYANA\")"
      ],
      "execution_count": null,
      "outputs": []
    },
    {
      "cell_type": "markdown",
      "metadata": {
        "id": "X2OwxFYyIJJM"
      },
      "source": [
        "HIMACHAL PRADESH"
      ]
    },
    {
      "cell_type": "code",
      "metadata": {
        "id": "lM-TpNZNZcc5"
      },
      "source": [
        "himachal_cases=crime_rates[crime_rates['States/UTs']==\"Himachal Pradesh\"]\n",
        "\n",
        "n=himachal_cases.groupby(\"District\").sum()\n",
        "n.drop('Year',axis=1,inplace=True)\n",
        "n\n"
      ],
      "execution_count": null,
      "outputs": []
    },
    {
      "cell_type": "code",
      "metadata": {
        "id": "9myI6t7rJhQH"
      },
      "source": [
        "db=n['Total of SC/ST (Prevention of Atrocities) Act ,1989']\n",
        "plt.subplots(figsize = (20, 15))\n",
        "dy=db.plot.barh(color='maroon')\n",
        "dy.set_title(\" HIMACHAL PRADESH\")"
      ],
      "execution_count": null,
      "outputs": []
    },
    {
      "cell_type": "code",
      "metadata": {
        "id": "pWCToV8aJhOh"
      },
      "source": [
        "dc=n['Total IPC Crimes against STs']\n",
        "plt.subplots(figsize = (20, 15))\n",
        "dx=dc.plot.barh(color='grey')\n",
        "dx.set_title(\" HIMACHAL PRADESH\")"
      ],
      "execution_count": null,
      "outputs": []
    },
    {
      "cell_type": "code",
      "metadata": {
        "id": "a1h6jPiLJhKu"
      },
      "source": [
        "dd=n['Total crimes against STs']\n",
        "plt.subplots(figsize = (20, 15))\n",
        "dw=dd.plot.barh(color='pink')\n",
        "dw.set_title(\"HIMACHAL PRADESH\")"
      ],
      "execution_count": null,
      "outputs": []
    },
    {
      "cell_type": "markdown",
      "metadata": {
        "id": "e0Ytpaf4JicE"
      },
      "source": [
        "JAMMU AND KASHMIR"
      ]
    },
    {
      "cell_type": "code",
      "metadata": {
        "id": "8pWUsM3YZcfx"
      },
      "source": [
        "jk_cases=crime_rates[crime_rates['States/UTs']==\"Jammu & Kashmir\"]\n",
        "\n",
        "o=jk_cases.groupby(\"District\").sum()\n",
        "o.drop('Year',axis=1,inplace=True)\n",
        "o\n"
      ],
      "execution_count": null,
      "outputs": []
    },
    {
      "cell_type": "code",
      "metadata": {
        "id": "-p0MI46zJ7A7"
      },
      "source": [
        "de=o['Total of SC/ST (Prevention of Atrocities) Act ,1989']\n",
        "plt.subplots(figsize = (20, 15))\n",
        "dv=de.plot.barh(color='maroon')\n",
        "dv.set_title(\" JAMMU AND KASHMIR\")"
      ],
      "execution_count": null,
      "outputs": []
    },
    {
      "cell_type": "code",
      "metadata": {
        "id": "UIsDZjp9J7Er"
      },
      "source": [
        "df=o['Total IPC Crimes against STs']\n",
        "plt.subplots(figsize = (20, 15))\n",
        "du=df.plot.barh(color='grey')\n",
        "du.set_title(\" JAMMU AND KASHMIR\")"
      ],
      "execution_count": null,
      "outputs": []
    },
    {
      "cell_type": "code",
      "metadata": {
        "id": "wARbmXaMJ7Iz"
      },
      "source": [
        "dg=o['Total crimes against STs']\n",
        "plt.subplots(figsize = (20, 15))\n",
        "dt=dg.plot.barh(color='pink')\n",
        "dt.set_title(\"JAMMU AND KASHMIR\")"
      ],
      "execution_count": null,
      "outputs": []
    },
    {
      "cell_type": "markdown",
      "metadata": {
        "id": "_E4Hxxe_J7S9"
      },
      "source": [
        "JHARKHAND"
      ]
    },
    {
      "cell_type": "code",
      "metadata": {
        "id": "DGttVulZem2d"
      },
      "source": [
        "jharkhand_cases=crime_rates[crime_rates['States/UTs']==\"Jharkhand\"]\n",
        "\n",
        "p=jharkhand_cases.groupby(\"District\").sum()\n",
        "p.drop('Year',axis=1,inplace=True)\n",
        "p"
      ],
      "execution_count": null,
      "outputs": []
    },
    {
      "cell_type": "code",
      "metadata": {
        "id": "CSeY1pkxKnaZ"
      },
      "source": [
        "dh=p['Total of SC/ST (Prevention of Atrocities) Act ,1989']\n",
        "plt.subplots(figsize = (20, 15))\n",
        "ds=dh.plot.barh(color='maroon')\n",
        "ds.set_title(\" JHARKHAND\")"
      ],
      "execution_count": null,
      "outputs": []
    },
    {
      "cell_type": "code",
      "metadata": {
        "id": "C6-a10q_Kndt"
      },
      "source": [
        "di=p['Total IPC Crimes against STs']\n",
        "plt.subplots(figsize = (20, 15))\n",
        "dr=di.plot.barh(color='grey')\n",
        "dr.set_title(\" JHARKHAND\")"
      ],
      "execution_count": null,
      "outputs": []
    },
    {
      "cell_type": "code",
      "metadata": {
        "id": "X4DbBZ9jKnhN"
      },
      "source": [
        "dj=p['Total crimes against STs']\n",
        "plt.subplots(figsize = (20, 15))\n",
        "dq=dj.plot.barh(color='pink')\n",
        "dq.set_title(\"JHARKHAND\")"
      ],
      "execution_count": null,
      "outputs": []
    },
    {
      "cell_type": "markdown",
      "metadata": {
        "id": "xDnU6G1uKnsj"
      },
      "source": [
        "KARNATAKA"
      ]
    },
    {
      "cell_type": "code",
      "metadata": {
        "id": "1w-lmHRJem9c"
      },
      "source": [
        "karnataka_cases=crime_rates[crime_rates['States/UTs']==\"Karnataka\"]\n",
        "\n",
        "q=karnataka_cases.groupby(\"District\").sum()\n",
        "q.drop('Year',axis=1,inplace=True)\n",
        "q"
      ],
      "execution_count": null,
      "outputs": []
    },
    {
      "cell_type": "code",
      "metadata": {
        "id": "7kYygJCALcBk"
      },
      "source": [
        "dk=q['Total of SC/ST (Prevention of Atrocities) Act ,1989']\n",
        "plt.subplots(figsize = (20, 15))\n",
        "dp=dk.plot.barh(color='maroon')\n",
        "dp.set_title(\" KARNATAKA\")"
      ],
      "execution_count": null,
      "outputs": []
    },
    {
      "cell_type": "code",
      "metadata": {
        "id": "fjnUxi48LcH7"
      },
      "source": [
        "dl=q['Total IPC Crimes against STs']\n",
        "plt.subplots(figsize = (20, 15))\n",
        "do=dl.plot.barh(color='grey')\n",
        "do.set_title(\" KARNATAKA\")"
      ],
      "execution_count": null,
      "outputs": []
    },
    {
      "cell_type": "code",
      "metadata": {
        "id": "wgRfrsQeLcLL"
      },
      "source": [
        "dm=q['Total crimes against STs']\n",
        "plt.subplots(figsize = (20, 15))\n",
        "dn=dm.plot.barh(color='pink')\n",
        "dn.set_title(\"KARNATAKA\")"
      ],
      "execution_count": null,
      "outputs": []
    },
    {
      "cell_type": "markdown",
      "metadata": {
        "id": "DvM4FSH-Lcck"
      },
      "source": [
        "KERELA"
      ]
    },
    {
      "cell_type": "code",
      "metadata": {
        "id": "acZSJbj3encS"
      },
      "source": [
        "kerela_cases=crime_rates[crime_rates['States/UTs']==\"Kerala\"]\n",
        "\n",
        "r=kerela_cases.groupby(\"District\").sum()\n",
        "r.drop('Year',axis=1,inplace=True)\n",
        "r"
      ],
      "execution_count": null,
      "outputs": []
    },
    {
      "cell_type": "code",
      "metadata": {
        "id": "Lr3dIboAMbkQ"
      },
      "source": [
        "ea=r['Total of SC/ST (Prevention of Atrocities) Act ,1989']\n",
        "plt.subplots(figsize = (20, 15))\n",
        "ez=ea.plot.barh(color='maroon')\n",
        "ez.set_title(\"KERELA\")"
      ],
      "execution_count": null,
      "outputs": []
    },
    {
      "cell_type": "code",
      "metadata": {
        "id": "S-eagGlVMboB"
      },
      "source": [
        "eb=r['Total IPC Crimes against STs']\n",
        "plt.subplots(figsize = (20, 15))\n",
        "ey=eb.plot.barh(color='grey')\n",
        "ey.set_title(\" KERELA\")"
      ],
      "execution_count": null,
      "outputs": []
    },
    {
      "cell_type": "code",
      "metadata": {
        "id": "O9AZwOsqMbsP"
      },
      "source": [
        "ec=r['Total crimes against STs']\n",
        "plt.subplots(figsize = (20, 15))\n",
        "ew=ec.plot.barh(color='pink')\n",
        "ew.set_title(\"KERELA\")"
      ],
      "execution_count": null,
      "outputs": []
    },
    {
      "cell_type": "markdown",
      "metadata": {
        "id": "kWeKvvkNMcHx"
      },
      "source": [
        "LAKSHADWEEP"
      ]
    },
    {
      "cell_type": "code",
      "metadata": {
        "id": "QqxmXz3zeoC0"
      },
      "source": [
        "laksh_cases=crime_rates[crime_rates['States/UTs']==\"Lakshadweep\"]\n",
        "\n",
        "s=laksh_cases.groupby(\"District\").sum()\n",
        "s.drop('Year',axis=1,inplace=True)\n",
        "s"
      ],
      "execution_count": null,
      "outputs": []
    },
    {
      "cell_type": "code",
      "metadata": {
        "id": "kCMOYitZfRoa"
      },
      "source": [
        "ed=s['Total of SC/ST (Prevention of Atrocities) Act ,1989']\n",
        "plt.subplots(figsize = (20, 15))\n",
        "ex=ed.plot.barh(color='maroon')\n",
        "ex.set_title(\"LAKSHADWEEP\")"
      ],
      "execution_count": null,
      "outputs": []
    },
    {
      "cell_type": "code",
      "metadata": {
        "id": "R-QPZ9u_NGad"
      },
      "source": [
        "ee=s['Total IPC Crimes against STs']\n",
        "plt.subplots(figsize = (20, 15))\n",
        "ev=ee.plot.barh(color='grey')\n",
        "ev.set_title(\" LAKSHADWEEP\")"
      ],
      "execution_count": null,
      "outputs": []
    },
    {
      "cell_type": "code",
      "metadata": {
        "id": "j2djlSVPNGex"
      },
      "source": [
        "ef=s['Total crimes against STs']\n",
        "plt.subplots(figsize = (20, 15))\n",
        "eu=ef.plot.barh(color='pink')\n",
        "eu.set_title(\"LAKSHADWEEP\")"
      ],
      "execution_count": null,
      "outputs": []
    },
    {
      "cell_type": "markdown",
      "metadata": {
        "id": "yLztFmwdNGpA"
      },
      "source": [
        "MADHYA PRADESH"
      ]
    },
    {
      "cell_type": "code",
      "metadata": {
        "id": "dGNYBq44eoVP"
      },
      "source": [
        "madhya_cases=crime_rates[crime_rates['States/UTs']==\"Madhya Pradesh\"]\n",
        "\n",
        "t=madhya_cases.groupby(\"District\").sum()\n",
        "t.drop('Year',axis=1,inplace=True)\n",
        "t"
      ],
      "execution_count": null,
      "outputs": []
    },
    {
      "cell_type": "code",
      "metadata": {
        "id": "81wS9hQeN-T2"
      },
      "source": [
        "eg=t['Total of SC/ST (Prevention of Atrocities) Act ,1989']\n",
        "plt.subplots(figsize = (20, 15))\n",
        "et=eg.plot.barh(color='maroon')\n",
        "et.set_title(\"MADHYA PRADESH\")"
      ],
      "execution_count": null,
      "outputs": []
    },
    {
      "cell_type": "code",
      "metadata": {
        "id": "paqMr6WkN-Wu"
      },
      "source": [
        "eh=t['Total IPC Crimes against STs']\n",
        "plt.subplots(figsize = (20, 15))\n",
        "es=eh.plot.barh(color='grey')\n",
        "es.set_title(\" MADHYA PRADESH\")"
      ],
      "execution_count": null,
      "outputs": []
    },
    {
      "cell_type": "code",
      "metadata": {
        "id": "0kl03s1mN-l-"
      },
      "source": [
        "ei=t['Total crimes against STs']\n",
        "plt.subplots(figsize = (20, 15))\n",
        "er=ei.plot.barh(color='pink')\n",
        "er.set_title(\"MADHYA PRADESH\")"
      ],
      "execution_count": null,
      "outputs": []
    },
    {
      "cell_type": "markdown",
      "metadata": {
        "id": "NI7jynj6N-yt"
      },
      "source": [
        "MAHARASHTRA"
      ]
    },
    {
      "cell_type": "code",
      "metadata": {
        "id": "A8YRRJaVeoh5"
      },
      "source": [
        "maha_cases=crime_rates[crime_rates['States/UTs']==\"Maharashtra\"]\n",
        "\n",
        "u=maha_cases.groupby(\"District\").sum()\n",
        "u.drop('Year',axis=1,inplace=True)\n",
        "u"
      ],
      "execution_count": null,
      "outputs": []
    },
    {
      "cell_type": "code",
      "metadata": {
        "id": "H8gIQ0h5Ow7n"
      },
      "source": [
        "ej=u['Total of SC/ST (Prevention of Atrocities) Act ,1989']\n",
        "plt.subplots(figsize = (20, 15))\n",
        "eq=ej.plot.barh(color='maroon')\n",
        "eq.set_title(\"MAHARASHTRA\")"
      ],
      "execution_count": null,
      "outputs": []
    },
    {
      "cell_type": "code",
      "metadata": {
        "id": "r-gJt2cbOw-0"
      },
      "source": [
        "ek=u['Total IPC Crimes against STs']\n",
        "plt.subplots(figsize = (20, 15))\n",
        "ep=ek.plot.barh(color='grey')\n",
        "ep.set_title(\" MAHARASHTRA\")"
      ],
      "execution_count": null,
      "outputs": []
    },
    {
      "cell_type": "code",
      "metadata": {
        "id": "Zda9iGDeOxDN"
      },
      "source": [
        "el=u['Total crimes against STs']\n",
        "plt.subplots(figsize = (20, 15))\n",
        "eo=el.plot.barh(color='pink')\n",
        "eo.set_title(\"MAHARASHTRA\")"
      ],
      "execution_count": null,
      "outputs": []
    },
    {
      "cell_type": "markdown",
      "metadata": {
        "id": "vvAG2Y38OxYV"
      },
      "source": [
        "MANIPUR"
      ]
    },
    {
      "cell_type": "code",
      "metadata": {
        "id": "z4j6ZGYceouE"
      },
      "source": [
        "manipur_cases=crime_rates[crime_rates['States/UTs']==\"Manipur\"]\n",
        "\n",
        "v=manipur_cases.groupby(\"District\").sum()\n",
        "v.drop('Year',axis=1,inplace=True)\n",
        "v"
      ],
      "execution_count": null,
      "outputs": []
    },
    {
      "cell_type": "code",
      "metadata": {
        "id": "WmMCJph1Pxa3"
      },
      "source": [
        "em=v['Total of SC/ST (Prevention of Atrocities) Act ,1989']\n",
        "plt.subplots(figsize = (20, 15))\n",
        "en=em.plot.barh(color='maroon')\n",
        "en.set_title(\"MANIPUR\")"
      ],
      "execution_count": null,
      "outputs": []
    },
    {
      "cell_type": "code",
      "metadata": {
        "id": "N8ofUNMRPxeZ"
      },
      "source": [
        "fa=v['Total IPC Crimes against STs']\n",
        "plt.subplots(figsize = (20, 15))\n",
        "fz=fa.plot.barh(color='grey')\n",
        "fz.set_title(\" MANIPUR\")"
      ],
      "execution_count": null,
      "outputs": []
    },
    {
      "cell_type": "code",
      "metadata": {
        "id": "2kfRHb6TPxhq"
      },
      "source": [
        "fb=v['Total crimes against STs']\n",
        "plt.subplots(figsize = (20, 15))\n",
        "fy=fb.plot.barh(color='pink')\n",
        "fy.set_title(\"MANIPUR\")"
      ],
      "execution_count": null,
      "outputs": []
    },
    {
      "cell_type": "markdown",
      "metadata": {
        "id": "O9QxMhb9Pxqw"
      },
      "source": [
        "# MEGHALAYA*"
      ]
    },
    {
      "cell_type": "code",
      "metadata": {
        "id": "eUROZPGqeo7v"
      },
      "source": [
        "megha_cases=crime_rates[crime_rates['States/UTs']==\"Meghalaya\"]\n",
        "\n",
        "w=megha_cases.groupby(\"District\").sum()\n",
        "w.drop('Year',axis=1,inplace=True)\n",
        "w"
      ],
      "execution_count": null,
      "outputs": []
    },
    {
      "cell_type": "code",
      "metadata": {
        "id": "c11Nl7oFQgf4"
      },
      "source": [
        "fc=w['Total of SC/ST (Prevention of Atrocities) Act ,1989']\n",
        "plt.subplots(figsize = (20, 15))\n",
        "fx=fc.plot.barh(color='maroon')\n",
        "fx.set_title(\"MEGHALAYA\")"
      ],
      "execution_count": null,
      "outputs": []
    },
    {
      "cell_type": "code",
      "metadata": {
        "id": "v7vC4h2OQgjq"
      },
      "source": [
        "fd=w['Total IPC Crimes against STs']\n",
        "plt.subplots(figsize = (20, 15))\n",
        "fw=fd.plot.barh(color='grey')\n",
        "fw.set_title(\" MEGHALAYA\")"
      ],
      "execution_count": null,
      "outputs": []
    },
    {
      "cell_type": "code",
      "metadata": {
        "id": "WPBUwuo2Qgnr"
      },
      "source": [
        "fe=w['Total crimes against STs']\n",
        "plt.subplots(figsize = (20, 15))\n",
        "fv=fe.plot.barh(color='pink')\n",
        "fv.set_title(\"MEGHALAYA\")"
      ],
      "execution_count": null,
      "outputs": []
    },
    {
      "cell_type": "markdown",
      "metadata": {
        "id": "r63YxmFrQgvD"
      },
      "source": [
        "MIZORAM"
      ]
    },
    {
      "cell_type": "code",
      "metadata": {
        "id": "B1ARQpq-epJh"
      },
      "source": [
        "mizo_cases=crime_rates[crime_rates['States/UTs']==\"Mizoram\"]\n",
        "\n",
        "x=mizo_cases.groupby(\"District\").sum()\n",
        "x.drop('Year',axis=1,inplace=True)\n",
        "x"
      ],
      "execution_count": null,
      "outputs": []
    },
    {
      "cell_type": "code",
      "metadata": {
        "id": "B-js4PICRaEB"
      },
      "source": [
        "ff=x['Total of SC/ST (Prevention of Atrocities) Act ,1989']\n",
        "plt.subplots(figsize = (20, 15))\n",
        "fu=ff.plot.barh(color='maroon')\n",
        "fu.set_title(\"MIZORAM\")"
      ],
      "execution_count": null,
      "outputs": []
    },
    {
      "cell_type": "code",
      "metadata": {
        "id": "AY9kkULJRaGu"
      },
      "source": [
        "fg=x['Total IPC Crimes against STs']\n",
        "plt.subplots(figsize = (20, 15))\n",
        "ft=fg.plot.barh(color='grey')\n",
        "ft.set_title(\" MIZORAM\")"
      ],
      "execution_count": null,
      "outputs": []
    },
    {
      "cell_type": "code",
      "metadata": {
        "id": "ss-EX_MTRaJ3"
      },
      "source": [
        "fh=x['Total crimes against STs']\n",
        "plt.subplots(figsize = (20, 15))\n",
        "fs=fh.plot.barh(color='pink')\n",
        "fs.set_title(\"MIZORAM\")"
      ],
      "execution_count": null,
      "outputs": []
    },
    {
      "cell_type": "markdown",
      "metadata": {
        "id": "lgqQ3hucRaia"
      },
      "source": [
        "NAGALAND"
      ]
    },
    {
      "cell_type": "code",
      "metadata": {
        "id": "Ebl-zo27epSi"
      },
      "source": [
        "naga_cases=crime_rates[crime_rates['States/UTs']==\"Nagaland\"]\n",
        "\n",
        "y=naga_cases.groupby(\"District\").sum()\n",
        "y.drop('Year',axis=1,inplace=True)\n",
        "y"
      ],
      "execution_count": null,
      "outputs": []
    },
    {
      "cell_type": "code",
      "metadata": {
        "id": "NcfDHbXkSFBx"
      },
      "source": [
        "fi=y['Total of SC/ST (Prevention of Atrocities) Act ,1989']\n",
        "plt.subplots(figsize = (20, 15))\n",
        "fr=fi.plot.barh(color='maroon')\n",
        "fr.set_title(\"NAGALAND\")"
      ],
      "execution_count": null,
      "outputs": []
    },
    {
      "cell_type": "code",
      "metadata": {
        "id": "7rfAemQvSFFP"
      },
      "source": [
        "fj=y['Total IPC Crimes against STs']\n",
        "plt.subplots(figsize = (20, 15))\n",
        "fq=fj.plot.barh(color='grey')\n",
        "fq.set_title(\" NAGALAND\")"
      ],
      "execution_count": null,
      "outputs": []
    },
    {
      "cell_type": "code",
      "metadata": {
        "id": "Fr6nj4UlSFMw"
      },
      "source": [
        "fk=y['Total crimes against STs']\n",
        "plt.subplots(figsize = (20, 15))\n",
        "fp=fk.plot.barh(color='pink')\n",
        "fp.set_title(\"NAGALAND\")"
      ],
      "execution_count": null,
      "outputs": []
    },
    {
      "cell_type": "markdown",
      "metadata": {
        "id": "pFt4ncJPSFYG"
      },
      "source": [
        "ODISHA"
      ]
    },
    {
      "cell_type": "code",
      "metadata": {
        "id": "UFKLfd_FgMYy"
      },
      "source": [
        "o_cases=crime_rates[crime_rates['States/UTs']==\"Odisha\"]\n",
        "z=o_cases.groupby(\"District\").sum()\n",
        "z.drop('Year',axis=1,inplace=True)\n",
        "z"
      ],
      "execution_count": null,
      "outputs": []
    },
    {
      "cell_type": "code",
      "metadata": {
        "id": "M2pNRo6vSxey"
      },
      "source": [
        "fl=z['Total of SC/ST (Prevention of Atrocities) Act ,1989']\n",
        "plt.subplots(figsize = (20, 15))\n",
        "fo=fl.plot.barh(color='maroon')\n",
        "fo.set_title(\"ODHISHA\")"
      ],
      "execution_count": null,
      "outputs": []
    },
    {
      "cell_type": "code",
      "metadata": {
        "id": "l4-JUYlISxiV"
      },
      "source": [
        "fm=z['Total IPC Crimes against STs']\n",
        "plt.subplots(figsize = (20, 15))\n",
        "fn=fm.plot.barh(color='grey')\n",
        "fn.set_title(\" ODISHA\")"
      ],
      "execution_count": null,
      "outputs": []
    },
    {
      "cell_type": "code",
      "metadata": {
        "id": "Gq5Ua5TaSxl6"
      },
      "source": [
        "ga=z['Total crimes against STs']\n",
        "plt.subplots(figsize = (20, 15))\n",
        "gz=ga.plot.barh(color='pink')\n",
        "gz.set_title(\"ODISHA\")"
      ],
      "execution_count": null,
      "outputs": []
    },
    {
      "cell_type": "markdown",
      "metadata": {
        "id": "O1oK1IVaS2BI"
      },
      "source": [
        "PUDUCHERRY"
      ]
    },
    {
      "cell_type": "code",
      "metadata": {
        "id": "fp_G7kCngMej"
      },
      "source": [
        "p_cases=crime_rates[crime_rates['States/UTs']==\"Puducherry\"]\n",
        "a1=p_cases.groupby(\"District\").sum()\n",
        "a1.drop('Year',axis=1,inplace=True)\n",
        "a1"
      ],
      "execution_count": null,
      "outputs": []
    },
    {
      "cell_type": "code",
      "metadata": {
        "id": "sSQCq_mVVDjK"
      },
      "source": [
        "gb=a1['Total of SC/ST (Prevention of Atrocities) Act ,1989']\n",
        "plt.subplots(figsize = (20, 15))\n",
        "gy=gb.plot.barh(color='maroon')\n",
        "gy.set_title(\"PUDUCHERRY\")"
      ],
      "execution_count": null,
      "outputs": []
    },
    {
      "cell_type": "code",
      "metadata": {
        "id": "HZtVfZ9SVDmn"
      },
      "source": [
        "gc=a1['Total IPC Crimes against STs']\n",
        "plt.subplots(figsize = (20, 15))\n",
        "gx=gc.plot.barh(color='grey')\n",
        "gx.set_title(\" PUDUCHERRY\")"
      ],
      "execution_count": null,
      "outputs": []
    },
    {
      "cell_type": "code",
      "metadata": {
        "id": "Qe8-Ym5MVDqP"
      },
      "source": [
        "gd=a1['Total crimes against STs']\n",
        "plt.subplots(figsize = (20, 15))\n",
        "gw=gd.plot.barh(color='pink')\n",
        "gw.set_title(\"PUDUCHERRY\")"
      ],
      "execution_count": null,
      "outputs": []
    },
    {
      "cell_type": "markdown",
      "metadata": {
        "id": "dw_7feaWVD1U"
      },
      "source": [
        "PUNJAB"
      ]
    },
    {
      "cell_type": "code",
      "metadata": {
        "id": "ncR2y5jdgMkP"
      },
      "source": [
        "punjab_cases=crime_rates[crime_rates['States/UTs']==\"Punjab\"]\n",
        "\n",
        "a2=punjab_cases.groupby(\"District\").sum()\n",
        "a2.drop('Year',axis=1,inplace=True)\n",
        "a2"
      ],
      "execution_count": null,
      "outputs": []
    },
    {
      "cell_type": "code",
      "metadata": {
        "id": "9qhboO-sV1TO"
      },
      "source": [
        "ge=a2['Total of SC/ST (Prevention of Atrocities) Act ,1989']\n",
        "plt.subplots(figsize = (20, 15))\n",
        "gv=ge.plot.barh(color='maroon')\n",
        "gv.set_title(\"PUNJAB\")"
      ],
      "execution_count": null,
      "outputs": []
    },
    {
      "cell_type": "code",
      "metadata": {
        "id": "R-1VhvOFV1Wg"
      },
      "source": [
        "gf=a2['Total IPC Crimes against STs']\n",
        "plt.subplots(figsize = (20, 15))\n",
        "gu=gf.plot.barh(color='grey')\n",
        "gu.set_title(\" PUNJAB\")"
      ],
      "execution_count": null,
      "outputs": []
    },
    {
      "cell_type": "code",
      "metadata": {
        "id": "fa2P5aD-V1aV"
      },
      "source": [
        "gg=a2['Total crimes against STs']\n",
        "plt.subplots(figsize = (20, 15))\n",
        "gt=gg.plot.barh(color='pink')\n",
        "gt.set_title(\"PUNJAB\")"
      ],
      "execution_count": null,
      "outputs": []
    },
    {
      "cell_type": "markdown",
      "metadata": {
        "id": "YMFDnjkHV1mB"
      },
      "source": [
        "RAJASTHAN"
      ]
    },
    {
      "cell_type": "code",
      "metadata": {
        "id": "K_CZHs84gMrM"
      },
      "source": [
        "ra_cases=crime_rates[crime_rates['States/UTs']==\"Rajasthan\"]\n",
        "\n",
        "a3=ra_cases.groupby(\"District\").sum()\n",
        "a3.drop('Year',axis=1,inplace=True)\n",
        "a3"
      ],
      "execution_count": null,
      "outputs": []
    },
    {
      "cell_type": "code",
      "metadata": {
        "id": "DKtSOwFHWnAn"
      },
      "source": [
        "gh=a3['Total of SC/ST (Prevention of Atrocities) Act ,1989']\n",
        "plt.subplots(figsize = (20, 15))\n",
        "gs=gh.plot.barh(color='maroon')\n",
        "gs.set_title(\"RAJASTHAN\")"
      ],
      "execution_count": null,
      "outputs": []
    },
    {
      "cell_type": "code",
      "metadata": {
        "id": "AIxIQsWYWnEl"
      },
      "source": [
        "gi=a3['Total IPC Crimes against STs']\n",
        "plt.subplots(figsize = (20, 15))\n",
        "gr=gi.plot.barh(color='grey')\n",
        "gr.set_title(\" RAJASTHAN\")"
      ],
      "execution_count": null,
      "outputs": []
    },
    {
      "cell_type": "code",
      "metadata": {
        "id": "-1nubarHWnHs"
      },
      "source": [
        "gj=a3['Total crimes against STs']\n",
        "plt.subplots(figsize = (20, 15))\n",
        "gq=gj.plot.barh(color='pink')\n",
        "gq.set_title(\"RAJASTHAN\")"
      ],
      "execution_count": null,
      "outputs": []
    },
    {
      "cell_type": "markdown",
      "metadata": {
        "id": "HBX0V4D6WnPA"
      },
      "source": [
        "SIKKIM"
      ]
    },
    {
      "cell_type": "code",
      "metadata": {
        "id": "3AmM5mlwgMyR"
      },
      "source": [
        "sikkim_cases=crime_rates[crime_rates['States/UTs']==\"Sikkim\"]\n",
        "\n",
        "a4=sikkim_cases.groupby(\"District\").sum()\n",
        "a4.drop('Year',axis=1,inplace=True)\n",
        "a4"
      ],
      "execution_count": null,
      "outputs": []
    },
    {
      "cell_type": "code",
      "metadata": {
        "id": "JrzYUIcLXafo"
      },
      "source": [
        "gk=a4['Total of SC/ST (Prevention of Atrocities) Act ,1989']\n",
        "plt.subplots(figsize = (20, 15))\n",
        "gp=gk.plot.barh(color='maroon')\n",
        "gp.set_title(\"SIKKIM\")"
      ],
      "execution_count": null,
      "outputs": []
    },
    {
      "cell_type": "code",
      "metadata": {
        "id": "1gOnOpAbXajX"
      },
      "source": [
        "gl=a4['Total IPC Crimes against STs']\n",
        "plt.subplots(figsize = (20, 15))\n",
        "go=gl.plot.barh(color='grey')\n",
        "go.set_title(\" SIKKIM\")"
      ],
      "execution_count": null,
      "outputs": []
    },
    {
      "cell_type": "code",
      "metadata": {
        "id": "WSavTbe1XanT"
      },
      "source": [
        "gm=a4['Total crimes against STs']\n",
        "plt.subplots(figsize = (20, 15))\n",
        "gn=gm.plot.barh(color='pink')\n",
        "gn.set_title(\"SIKKIM\")"
      ],
      "execution_count": null,
      "outputs": []
    },
    {
      "cell_type": "markdown",
      "metadata": {
        "id": "nat43I3dXayb"
      },
      "source": [
        "TAMIL NADU"
      ]
    },
    {
      "cell_type": "code",
      "metadata": {
        "id": "F3V3cqvAgM5K"
      },
      "source": [
        "tamil_cases=crime_rates[crime_rates['States/UTs']==\"Tamil Nadu\"]\n",
        "\n",
        "a5=tamil_cases.groupby(\"District\").sum()\n",
        "a5.drop('Year',axis=1,inplace=True)\n",
        "a5"
      ],
      "execution_count": null,
      "outputs": []
    },
    {
      "cell_type": "code",
      "metadata": {
        "id": "v850liVRYfrp"
      },
      "source": [
        "ha=a5['Total of SC/ST (Prevention of Atrocities) Act ,1989']\n",
        "plt.subplots(figsize = (20, 15))\n",
        "hz=ha.plot.barh(color='maroon')\n",
        "hz.set_title(\"TAMIL NADU\")"
      ],
      "execution_count": null,
      "outputs": []
    },
    {
      "cell_type": "code",
      "metadata": {
        "id": "9bw6zLtpYfu0"
      },
      "source": [
        "hb=a5['Total IPC Crimes against STs']\n",
        "plt.subplots(figsize = (20, 15))\n",
        "hy=hb.plot.barh(color='grey')\n",
        "hy.set_title(\" TAMIL NADU\")"
      ],
      "execution_count": null,
      "outputs": []
    },
    {
      "cell_type": "code",
      "metadata": {
        "id": "h1hCT0u2YfyN"
      },
      "source": [
        "hc=a5['Total crimes against STs']\n",
        "plt.subplots(figsize = (20, 15))\n",
        "hx=hc.plot.barh(color='pink')\n",
        "hx.set_title(\"TAMIL NADU\")"
      ],
      "execution_count": null,
      "outputs": []
    },
    {
      "cell_type": "markdown",
      "metadata": {
        "id": "VxydJHMpYf5g"
      },
      "source": [
        "TELANGANA"
      ]
    },
    {
      "cell_type": "code",
      "metadata": {
        "id": "bjwZ1i0dgM_h"
      },
      "source": [
        "t_cases=crime_rates[crime_rates['States/UTs']==\"Telangana\"]\n",
        "\n",
        "a6=t_cases.groupby(\"District\").sum()\n",
        "a6.drop('Year',axis=1,inplace=True)\n",
        "a6"
      ],
      "execution_count": null,
      "outputs": []
    },
    {
      "cell_type": "code",
      "metadata": {
        "id": "bhCldTk6ZPdB"
      },
      "source": [
        "hd=a6['Total of SC/ST (Prevention of Atrocities) Act ,1989']\n",
        "plt.subplots(figsize = (20, 15))\n",
        "hw=hd.plot.barh(color='maroon')\n",
        "hw.set_title(\"TELANGANA\")"
      ],
      "execution_count": null,
      "outputs": []
    },
    {
      "cell_type": "code",
      "metadata": {
        "id": "R6kf0j7vZPga"
      },
      "source": [
        "\n",
        "he=a6['Total IPC Crimes against STs']\n",
        "plt.subplots(figsize = (20, 15))\n",
        "hv=he.plot.barh(color='grey')\n",
        "hv.set_title(\" TELANGANA\")\n"
      ],
      "execution_count": null,
      "outputs": []
    },
    {
      "cell_type": "code",
      "metadata": {
        "id": "Zax2158jZPjU"
      },
      "source": [
        "hf=a6['Total crimes against STs']\n",
        "plt.subplots(figsize = (20, 15))\n",
        "hu=hf.plot.barh(color='pink')\n",
        "hu.set_title(\"TELANGANA\")"
      ],
      "execution_count": null,
      "outputs": []
    },
    {
      "cell_type": "markdown",
      "metadata": {
        "id": "veS07jYrZPtc"
      },
      "source": [
        "TRIPURA"
      ]
    },
    {
      "cell_type": "code",
      "metadata": {
        "id": "Jw3HBF1ugNG1"
      },
      "source": [
        "tripura_cases=crime_rates[crime_rates['States/UTs']==\"Tripura\"]\n",
        "\n",
        "a7=tripura_cases.groupby(\"District\").sum()\n",
        "a7.drop('Year',axis=1,inplace=True)\n",
        "a7"
      ],
      "execution_count": null,
      "outputs": []
    },
    {
      "cell_type": "code",
      "metadata": {
        "id": "8T9thvglaAAm"
      },
      "source": [
        "hg=a7['Total of SC/ST (Prevention of Atrocities) Act ,1989']\n",
        "plt.subplots(figsize = (20, 15))\n",
        "ht=hg.plot.barh(color='maroon')\n",
        "ht.set_title(\"TRIPURA\")"
      ],
      "execution_count": null,
      "outputs": []
    },
    {
      "cell_type": "code",
      "metadata": {
        "id": "RFQs-aoYaAF9"
      },
      "source": [
        "hh=a7['Total IPC Crimes against STs']\n",
        "plt.subplots(figsize = (20, 15))\n",
        "hs=hh.plot.barh(color='grey')\n",
        "hs.set_title(\" TRIPURA\")\n"
      ],
      "execution_count": null,
      "outputs": []
    },
    {
      "cell_type": "code",
      "metadata": {
        "id": "fz2iqHKCaAD3"
      },
      "source": [
        "hi=a7['Total crimes against STs']\n",
        "plt.subplots(figsize = (20, 15))\n",
        "hr=hi.plot.barh(color='pink')\n",
        "hr.set_title(\"TRIPURA\")"
      ],
      "execution_count": null,
      "outputs": []
    },
    {
      "cell_type": "markdown",
      "metadata": {
        "id": "jdAafnwaaDcX"
      },
      "source": [
        "UTTAR PRADESH"
      ]
    },
    {
      "cell_type": "code",
      "metadata": {
        "id": "9EVcmp3KgNOH"
      },
      "source": [
        "up_cases=crime_rates[crime_rates['States/UTs']==\"Uttar Pradesh\"]\n",
        "a8=up_cases.groupby(\"District\").sum()\n",
        "a8.drop('Year',axis=1,inplace=True)\n",
        "a8"
      ],
      "execution_count": null,
      "outputs": []
    },
    {
      "cell_type": "code",
      "metadata": {
        "id": "MzIk4XFNa-LK"
      },
      "source": [
        "hj=a8['Total of SC/ST (Prevention of Atrocities) Act ,1989']\n",
        "plt.subplots(figsize = (20, 15))\n",
        "hq=hj.plot.barh(color='maroon')\n",
        "hq.set_title(\"UTTAR PRADESH\")"
      ],
      "execution_count": null,
      "outputs": []
    },
    {
      "cell_type": "code",
      "metadata": {
        "id": "zzObNFeSa-Qz"
      },
      "source": [
        "hk=a8['Total IPC Crimes against STs']\n",
        "plt.subplots(figsize = (20, 15))\n",
        "hp=hk.plot.barh(color='grey')\n",
        "hp.set_title(\" UTTAR PRADESH\")\n"
      ],
      "execution_count": null,
      "outputs": []
    },
    {
      "cell_type": "code",
      "metadata": {
        "id": "n_FAQQORbAC_"
      },
      "source": [
        "hl=a8['Total crimes against STs']\n",
        "plt.subplots(figsize = (20, 15))\n",
        "ho=hl.plot.barh(color='pink')\n",
        "ho.set_title(\"UTTAR PRADESH\")"
      ],
      "execution_count": null,
      "outputs": []
    },
    {
      "cell_type": "markdown",
      "metadata": {
        "id": "JoyGAcmva-ZW"
      },
      "source": [
        "UTTARAKHAND"
      ]
    },
    {
      "cell_type": "code",
      "metadata": {
        "id": "XJdG_LNfgNV2"
      },
      "source": [
        "uk_cases=crime_rates[crime_rates['States/UTs']==\"Uttarakhand\"]\n",
        "\n",
        "a9=uk_cases.groupby(\"District\").sum()\n",
        "a9.drop('Year',axis=1,inplace=True)\n",
        "a9"
      ],
      "execution_count": null,
      "outputs": []
    },
    {
      "cell_type": "code",
      "metadata": {
        "id": "nNEuL_xHbsx_"
      },
      "source": [
        "hm=a9['Total of SC/ST (Prevention of Atrocities) Act ,1989']\n",
        "plt.subplots(figsize = (20, 15))\n",
        "hn=hm.plot.barh(color='maroo8n')\n",
        "hn.set_title(\"UTTARAKHAND\")"
      ],
      "execution_count": null,
      "outputs": []
    },
    {
      "cell_type": "code",
      "metadata": {
        "id": "4-42iUuibs1L"
      },
      "source": [
        "ka=a9['Total IPC Crimes against STs']\n",
        "plt.subplots(figsize = (20, 15))\n",
        "kz=ka.plot.barh(color='grey')\n",
        "kz.set_title(\" UTTARAKHAND\")"
      ],
      "execution_count": null,
      "outputs": []
    },
    {
      "cell_type": "code",
      "metadata": {
        "id": "21Q5_7QYbs40"
      },
      "source": [
        "kb=a9['Total crimes against STs']\n",
        "plt.subplots(figsize = (20, 15))\n",
        "ky=kb.plot.barh(color='pink')\n",
        "ky.set_title(\"UTTARAKHAND\")"
      ],
      "execution_count": null,
      "outputs": []
    },
    {
      "cell_type": "markdown",
      "metadata": {
        "id": "KNTKeILbbtPc"
      },
      "source": [
        "WEST BENGAL"
      ]
    },
    {
      "cell_type": "code",
      "metadata": {
        "id": "WxKKKrzOgNbg"
      },
      "source": [
        "wb_cases=crime_rates[crime_rates['States/UTs']==\"West Bengal\"]\n",
        "\n",
        "a10=wb_cases.groupby(\"District\").sum()\n",
        "a10.drop('Year',axis=1,inplace=True)\n",
        "a10"
      ],
      "execution_count": null,
      "outputs": []
    },
    {
      "cell_type": "code",
      "metadata": {
        "id": "qzjBmY_Dhcyk"
      },
      "source": [
        "kc=a10['Total of SC/ST (Prevention of Atrocities) Act ,1989']\n",
        "plt.subplots(figsize = (15, 6))\n",
        "kw=kc.plot.barh(color='maroon')\n",
        "kw.set_title(\" West Bengal\")"
      ],
      "execution_count": null,
      "outputs": []
    },
    {
      "cell_type": "code",
      "metadata": {
        "id": "yz262Uvj1ZvV"
      },
      "source": [
        "kd=a10['Total IPC Crimes against STs']\n",
        "plt.subplots(figsize = (20, 15))\n",
        "kx=kd.plot.barh(color='grey')\n",
        "kx.set_title(\" WEST BENGAL\")"
      ],
      "execution_count": null,
      "outputs": []
    },
    {
      "cell_type": "code",
      "metadata": {
        "id": "MdCcGS8I1Z2v"
      },
      "source": [
        "ke=a10['Total crimes against STs']\n",
        "plt.subplots(figsize = (20, 15))\n",
        "ks=ke.plot.barh(color='pink')\n",
        "ks.set_title(\"WEST BENGAL\")"
      ],
      "execution_count": null,
      "outputs": []
    },
    {
      "cell_type": "code",
      "metadata": {
        "colab": {
          "base_uri": "https://localhost:8080/",
          "height": 555
        },
        "id": "2cJcFheCDFqS",
        "outputId": "a3898146-3964-4827-a6f8-8265fc52216f"
      },
      "source": [
        "state_crimes=crime_rates.groupby('States/UTs').sum()\n",
        "state_crimes.drop('Year', axis = 1, inplace = True)\n",
        "\n",
        "stt=state_crimes[['Total of SC/ST (Prevention of Atrocities) Act ,1989','Total IPC Crimes against STs','Total crimes against STs']]\n",
        "#plt.subplots(figsize = (16, 6))\n",
        "sa=state_crimes[['Total of SC/ST (Prevention of Atrocities) Act ,1989','Total IPC Crimes against STs','Total crimes against STs']]\n",
        "sa.plot.barh(figsize = (12, 9))"
      ],
      "execution_count": null,
      "outputs": [
        {
          "output_type": "execute_result",
          "data": {
            "text/plain": [
              "<matplotlib.axes._subplots.AxesSubplot at 0x7f35082fa898>"
            ]
          },
          "metadata": {
            "tags": []
          },
          "execution_count": 14
        },
        {
          "output_type": "display_data",
          "data": {
            "image/png": "[encoded data removed]",
            "text/plain": [
              "<Figure size 864x648 with 1 Axes>"
            ]
          },
          "metadata": {
            "tags": [],
            "needs_background": "light"
          }
        }
      ]
    },
    {
      "cell_type": "code",
      "metadata": {
        "id": "KQ2UQLefEbS4"
      },
      "source": [
        "##total number of crimes in each state\n",
        "grouping_state_crimes=crime_rates.groupby('States/UTs').sum()\n",
        "grouping_state_crimes"
      ],
      "execution_count": null,
      "outputs": []
    },
    {
      "cell_type": "code",
      "metadata": {
        "id": "NAv-K0wuFLxq"
      },
      "source": [
        "total_state_crime=grouping_state_crimes['Total crimes against STs']\n",
        "fig = plt.figure()\n",
        "ax = fig.add_subplot(111)\n",
        "total_state_crime.plot.bar(figsize=(15,9),color='violet',ax=ax)\n",
        "total_state_crime.set_axis=ax\n",
        "ax.set_title(\"Overall crimes in all States\")"
      ],
      "execution_count": null,
      "outputs": []
    },
    {
      "cell_type": "markdown",
      "metadata": {
        "id": "tFvGXbS_FmZq"
      },
      "source": [
        "NUMBER OF MAJOR CRIMES IN EACH STATES"
      ]
    },
    {
      "cell_type": "code",
      "metadata": {
        "colab": {
          "base_uri": "https://localhost:8080/",
          "height": 668
        },
        "id": "TLKCd_WpFjvk",
        "outputId": "84a3372a-8b11-4045-f4cc-f858086f64cf"
      },
      "source": [
        "aaa=grouping_state_crimes['Total of SC/ST (Prevention of Atrocities) Act ,1989']\n",
        "bbb=grouping_state_crimes['Total IPC Crimes against STs']\n",
        "ccc=grouping_state_crimes['Total crimes against STs']\n",
        "\n",
        "\n",
        "fig = plt.figure()\n",
        "ax = fig.add_subplot(111)\n",
        "aaa.plot.bar(color='blue',ax=ax,position=0,width=0.2,figsize = (15, 9))\n",
        "bbb.plot.bar(color='green',ax=ax,position=1,width=0.2,figsize = (15, 9))\n",
        "ccc.plot.bar(color='maroon',ax=ax,position=2,width=0.2,figsize = (15, 9))\n",
        "\n",
        "\n",
        "ax.set_title('Major Crimes in All states')\n",
        "ax.legend(['Total of SC/ST (Prevention of Atrocities) Act ,1989','Total IPC Crimes against STs','Total crimes against STs'])"
      ],
      "execution_count": null,
      "outputs": [
        {
          "output_type": "execute_result",
          "data": {
            "text/plain": [
              "<matplotlib.legend.Legend at 0x7f34ff9d30f0>"
            ]
          },
          "metadata": {
            "tags": []
          },
          "execution_count": 26
        },
        {
          "output_type": "display_data",
          "data": {
            "image/png": "[encoded data removed]",
            "text/plain": [
              "<Figure size 1080x648 with 1 Axes>"
            ]
          },
          "metadata": {
            "tags": [],
            "needs_background": "light"
          }
        }
      ]
    },
    {
      "cell_type": "code",
      "metadata": {
        "colab": {
          "base_uri": "https://localhost:8080/"
        },
        "id": "G_4SvJ_lHGmk",
        "outputId": "110731d6-5c0e-4f45-d1f6-c169aa946f02"
      },
      "source": [
        "all_india_cc1=grouping_state_crimes['Total of SC/ST (Prevention of Atrocities) Act ,1989'].sum()\n",
        "all_india_cc2=grouping_state_crimes['Total IPC Crimes against STs'].sum()\n",
        "all_india_cc3=grouping_state_crimes['Total crimes against STs'].sum()\n",
        "\n",
        "\n",
        "\n",
        "\n",
        "\n",
        "\n",
        "print(\"Total crimes in India 2014\")\n",
        "print('Total of SC/ST (Prevention of Atrocities) Act ,1989:\\t',all_india_cc1)\n",
        "print(\"Total IPC Crimes against STs:\\t\",all_india_cc2)\n",
        "print(\"Total  Crimes against STs:\\t\",all_india_cc3)"
      ],
      "execution_count": null,
      "outputs": [
        {
          "output_type": "stream",
          "text": [
            "Total crimes in India 2014\n",
            "Total of SC/ST (Prevention of Atrocities) Act ,1989:\t 13612\n",
            "Total IPC Crimes against STs:\t 9050\n",
            "Total  Crimes against STs:\t 22868\n"
          ],
          "name": "stdout"
        }
      ]
    },
    {
      "cell_type": "code",
      "metadata": {
        "colab": {
          "base_uri": "https://localhost:8080/",
          "height": 391
        },
        "id": "uuCYeV_1IKMR",
        "outputId": "f4182fe7-d331-4399-f306-c4133e793477"
      },
      "source": [
        "all_india_cc1=grouping_state_crimes['Total of SC/ST (Prevention of Atrocities) Act ,1989']\n",
        "all_india_cc2=grouping_state_crimes['Total IPC Crimes against STs']\n",
        "all_india_cc3=grouping_state_crimes['Total crimes against STs']\n",
        "labels = ['Total of SC/ST (Prevention of Atrocities) Act ,1989','Total IPC Crimes against STs','Total  Crimes against STs']\n",
        "y = [13612,9050,22868]\n",
        "#plt.plot.bar(x,y)\n",
        "fig1, ax1 = plt.subplots(figsize=(15,6))\n",
        "ax1.pie(y,  labels=labels, autopct='%1.1f%%',\n",
        "         startangle=90,shadow=True)\n",
        "ax1.axis('equal')  # Equal aspect ratio ensures that pie is drawn as a circle.\n",
        "ax1.set_title(\"Overall Crimes in India\")\n",
        "my_circle=plt.Circle( (0,0), 0.7, color='white')#add a circle at the center\n",
        "p=plt.gcf()\n",
        "p.gca().add_artist(my_circle)"
      ],
      "execution_count": null,
      "outputs": [
        {
          "output_type": "execute_result",
          "data": {
            "text/plain": [
              "<matplotlib.patches.Circle at 0x7f34ff5d3438>"
            ]
          },
          "metadata": {
            "tags": []
          },
          "execution_count": 30
        },
        {
          "output_type": "display_data",
          "data": {
            "image/png": "[encoded data removed]",
            "text/plain": [
              "<Figure size 1080x432 with 1 Axes>"
            ]
          },
          "metadata": {
            "tags": []
          }
        }
      ]
    },
    {
      "cell_type": "markdown",
      "metadata": {
        "id": "imswkHJKSy83"
      },
      "source": [
        "PREDICT MY DATA USING SVM\r\n"
      ]
    },
    {
      "cell_type": "code",
      "metadata": {
        "id": "V0VGZeSxbVZP"
      },
      "source": [
        "\r\n",
        "import numpy as np\r\n",
        "import math\r\n",
        "import pandas as pd\r\n",
        "import matplotlib.pyplot as plt\r\n",
        "from sklearn import svm\r\n",
        "import sklearn.metrics as metric\r\n",
        "%matplotlib inline"
      ],
      "execution_count": null,
      "outputs": []
    },
    {
      "cell_type": "code",
      "metadata": {
        "colab": {
          "base_uri": "https://localhost:8080/",
          "height": 605
        },
        "id": "q8FJT-PSzhTK",
        "outputId": "b49dc13e-30d9-49c1-b73c-da0e5b6f399f"
      },
      "source": [
        "filedata='/content/gdrive/MyDrive/crime/crime.csv'  #create your own csv file\r\n",
        "data1=pd.read_csv(filedata)\r\n",
        "data1"
      ],
      "execution_count": null,
      "outputs": [
        {
          "output_type": "execute_result",
          "data": {
            "text/html": [
              "<div>\n",
              "<style scoped>\n",
              "    .dataframe tbody tr th:only-of-type {\n",
              "        vertical-align: middle;\n",
              "    }\n",
              "\n",
              "    .dataframe tbody tr th {\n",
              "        vertical-align: top;\n",
              "    }\n",
              "\n",
              "    .dataframe thead th {\n",
              "        text-align: right;\n",
              "    }\n",
              "</style>\n",
              "<table border=\"1\" class=\"dataframe\">\n",
              "  <thead>\n",
              "    <tr style=\"text-align: right;\">\n",
              "      <th></th>\n",
              "      <th>States/UTs</th>\n",
              "      <th>District</th>\n",
              "      <th>Year</th>\n",
              "      <th>Protection of Civil Rights Act, 1955</th>\n",
              "      <th>POA_Murder</th>\n",
              "      <th>POA_Attempt to commit Murder</th>\n",
              "      <th>POA_Rape</th>\n",
              "      <th>POA_Attempt to commit Rape</th>\n",
              "      <th>POA_Assault on women with intent to outrage her Modesty</th>\n",
              "      <th>POA_Sexual Harassment</th>\n",
              "      <th>POA_Assault on women with intent to Disrobe</th>\n",
              "      <th>POA_Voyeurism</th>\n",
              "      <th>POA_Stalking</th>\n",
              "      <th>POA_Other Sexual Harassment</th>\n",
              "      <th>POA_Insult to the Modesty of women</th>\n",
              "      <th>POA_Kidnapping &amp; Abduction_GrandTotal</th>\n",
              "      <th>POA_Kidnaping &amp; Abduction_Total</th>\n",
              "      <th>POA_Kidnaping &amp; Abduction in order to Murder</th>\n",
              "      <th>POA_Kidnapping for Ransom</th>\n",
              "      <th>POA_Kidnapping &amp; Abduction of Women to compel her for marriage</th>\n",
              "      <th>POA_Other Kidnapping</th>\n",
              "      <th>POA_Dacoity</th>\n",
              "      <th>POA_Dacoity with Murder</th>\n",
              "      <th>POA_Other Dacoity</th>\n",
              "      <th>POA_Robbery</th>\n",
              "      <th>POA_Arson</th>\n",
              "      <th>POA_Grievous Hurt</th>\n",
              "      <th>POA_Hurt</th>\n",
              "      <th>POA_Acid attack</th>\n",
              "      <th>POA_Attempt to Acid Attack</th>\n",
              "      <th>POA_Riots</th>\n",
              "      <th>POA_Other IPC crimes</th>\n",
              "      <th>POA_SC / ST (Prevention of Atrocities) Act only</th>\n",
              "      <th>Total of SC/ST (Prevention of Atrocities) Act ,1989</th>\n",
              "      <th>IPC_Murder</th>\n",
              "      <th>IPC_Attempt to commit Murder</th>\n",
              "      <th>IPC_Rape</th>\n",
              "      <th>IPC_Attempt to commit Rape</th>\n",
              "      <th>IPC_Assault on women with intent to outrage her Modesty</th>\n",
              "      <th>IPC_Sexual Harassment</th>\n",
              "      <th>IPC_Assault on women with intent to Disrobe</th>\n",
              "      <th>IPC_Voyeurism</th>\n",
              "      <th>IPC_Stalking</th>\n",
              "      <th>IPC_Other Sexual Harassment</th>\n",
              "      <th>IPC_Insult to the Modesty of women</th>\n",
              "      <th>IPC_Kidnapping &amp; Abduction</th>\n",
              "      <th>IPC_Kidnaping &amp; Abduction</th>\n",
              "      <th>IPC_Kidnaping &amp; Abduction in order to Murder</th>\n",
              "      <th>IPC_Kidnapping for Ransom</th>\n",
              "      <th>IPC_Kidnapping &amp; Abduction of Women to compel her for marriage</th>\n",
              "      <th>IPC_Other Kidnapping</th>\n",
              "      <th>IPC_Dacoity</th>\n",
              "      <th>IPC_Dacoity with Murder</th>\n",
              "      <th>IPC_Other Dacoity</th>\n",
              "      <th>IPC_Robbery</th>\n",
              "      <th>IPC_Arson</th>\n",
              "      <th>IPC_Grievous Hurt</th>\n",
              "      <th>IPC_Hurt</th>\n",
              "      <th>IPC_Acid attack</th>\n",
              "      <th>IPC_Attempt to Acid Attack</th>\n",
              "      <th>IPC_Riots</th>\n",
              "      <th>IPC_Other IPC crimes</th>\n",
              "      <th>Total IPC Crimes against STs</th>\n",
              "      <th>Manual Scavengers and Construction of Dry Latrines (P) Act, 1993</th>\n",
              "      <th>Other SLL Crime against STs</th>\n",
              "      <th>Total crimes against STs</th>\n",
              "    </tr>\n",
              "  </thead>\n",
              "  <tbody>\n",
              "    <tr>\n",
              "      <th>0</th>\n",
              "      <td>Andhra Pradesh</td>\n",
              "      <td>Anantapur</td>\n",
              "      <td>2014</td>\n",
              "      <td>0</td>\n",
              "      <td>1</td>\n",
              "      <td>2</td>\n",
              "      <td>0</td>\n",
              "      <td>1</td>\n",
              "      <td>2</td>\n",
              "      <td>1</td>\n",
              "      <td>0</td>\n",
              "      <td>0</td>\n",
              "      <td>1</td>\n",
              "      <td>0</td>\n",
              "      <td>0</td>\n",
              "      <td>0</td>\n",
              "      <td>0</td>\n",
              "      <td>0</td>\n",
              "      <td>0</td>\n",
              "      <td>0</td>\n",
              "      <td>0</td>\n",
              "      <td>0</td>\n",
              "      <td>0</td>\n",
              "      <td>0</td>\n",
              "      <td>0</td>\n",
              "      <td>0</td>\n",
              "      <td>0</td>\n",
              "      <td>0</td>\n",
              "      <td>0</td>\n",
              "      <td>0</td>\n",
              "      <td>0</td>\n",
              "      <td>15</td>\n",
              "      <td>2</td>\n",
              "      <td>23</td>\n",
              "      <td>0</td>\n",
              "      <td>0</td>\n",
              "      <td>0</td>\n",
              "      <td>0</td>\n",
              "      <td>0</td>\n",
              "      <td>0</td>\n",
              "      <td>0</td>\n",
              "      <td>0</td>\n",
              "      <td>0</td>\n",
              "      <td>0</td>\n",
              "      <td>0</td>\n",
              "      <td>0</td>\n",
              "      <td>0</td>\n",
              "      <td>0</td>\n",
              "      <td>0</td>\n",
              "      <td>0</td>\n",
              "      <td>0</td>\n",
              "      <td>0</td>\n",
              "      <td>0</td>\n",
              "      <td>0</td>\n",
              "      <td>0</td>\n",
              "      <td>0</td>\n",
              "      <td>0</td>\n",
              "      <td>0</td>\n",
              "      <td>0</td>\n",
              "      <td>0</td>\n",
              "      <td>0</td>\n",
              "      <td>0</td>\n",
              "      <td>0</td>\n",
              "      <td>0</td>\n",
              "      <td>0</td>\n",
              "      <td>23</td>\n",
              "    </tr>\n",
              "    <tr>\n",
              "      <th>1</th>\n",
              "      <td>Andhra Pradesh</td>\n",
              "      <td>Chittoor</td>\n",
              "      <td>2014</td>\n",
              "      <td>0</td>\n",
              "      <td>0</td>\n",
              "      <td>0</td>\n",
              "      <td>0</td>\n",
              "      <td>0</td>\n",
              "      <td>1</td>\n",
              "      <td>0</td>\n",
              "      <td>0</td>\n",
              "      <td>0</td>\n",
              "      <td>0</td>\n",
              "      <td>1</td>\n",
              "      <td>0</td>\n",
              "      <td>1</td>\n",
              "      <td>0</td>\n",
              "      <td>0</td>\n",
              "      <td>0</td>\n",
              "      <td>0</td>\n",
              "      <td>1</td>\n",
              "      <td>0</td>\n",
              "      <td>0</td>\n",
              "      <td>0</td>\n",
              "      <td>0</td>\n",
              "      <td>0</td>\n",
              "      <td>1</td>\n",
              "      <td>1</td>\n",
              "      <td>0</td>\n",
              "      <td>0</td>\n",
              "      <td>1</td>\n",
              "      <td>13</td>\n",
              "      <td>0</td>\n",
              "      <td>17</td>\n",
              "      <td>0</td>\n",
              "      <td>0</td>\n",
              "      <td>0</td>\n",
              "      <td>0</td>\n",
              "      <td>0</td>\n",
              "      <td>0</td>\n",
              "      <td>0</td>\n",
              "      <td>0</td>\n",
              "      <td>0</td>\n",
              "      <td>0</td>\n",
              "      <td>0</td>\n",
              "      <td>0</td>\n",
              "      <td>0</td>\n",
              "      <td>0</td>\n",
              "      <td>0</td>\n",
              "      <td>0</td>\n",
              "      <td>0</td>\n",
              "      <td>0</td>\n",
              "      <td>0</td>\n",
              "      <td>0</td>\n",
              "      <td>0</td>\n",
              "      <td>0</td>\n",
              "      <td>0</td>\n",
              "      <td>0</td>\n",
              "      <td>0</td>\n",
              "      <td>0</td>\n",
              "      <td>0</td>\n",
              "      <td>0</td>\n",
              "      <td>0</td>\n",
              "      <td>0</td>\n",
              "      <td>0</td>\n",
              "      <td>17</td>\n",
              "    </tr>\n",
              "    <tr>\n",
              "      <th>2</th>\n",
              "      <td>Andhra Pradesh</td>\n",
              "      <td>Cuddapah</td>\n",
              "      <td>2014</td>\n",
              "      <td>0</td>\n",
              "      <td>1</td>\n",
              "      <td>0</td>\n",
              "      <td>1</td>\n",
              "      <td>0</td>\n",
              "      <td>0</td>\n",
              "      <td>0</td>\n",
              "      <td>0</td>\n",
              "      <td>0</td>\n",
              "      <td>0</td>\n",
              "      <td>0</td>\n",
              "      <td>0</td>\n",
              "      <td>1</td>\n",
              "      <td>0</td>\n",
              "      <td>0</td>\n",
              "      <td>0</td>\n",
              "      <td>0</td>\n",
              "      <td>1</td>\n",
              "      <td>0</td>\n",
              "      <td>0</td>\n",
              "      <td>0</td>\n",
              "      <td>0</td>\n",
              "      <td>0</td>\n",
              "      <td>0</td>\n",
              "      <td>0</td>\n",
              "      <td>0</td>\n",
              "      <td>0</td>\n",
              "      <td>0</td>\n",
              "      <td>13</td>\n",
              "      <td>17</td>\n",
              "      <td>33</td>\n",
              "      <td>0</td>\n",
              "      <td>0</td>\n",
              "      <td>0</td>\n",
              "      <td>0</td>\n",
              "      <td>0</td>\n",
              "      <td>0</td>\n",
              "      <td>0</td>\n",
              "      <td>0</td>\n",
              "      <td>0</td>\n",
              "      <td>0</td>\n",
              "      <td>0</td>\n",
              "      <td>0</td>\n",
              "      <td>0</td>\n",
              "      <td>0</td>\n",
              "      <td>0</td>\n",
              "      <td>0</td>\n",
              "      <td>0</td>\n",
              "      <td>0</td>\n",
              "      <td>0</td>\n",
              "      <td>0</td>\n",
              "      <td>0</td>\n",
              "      <td>0</td>\n",
              "      <td>0</td>\n",
              "      <td>0</td>\n",
              "      <td>0</td>\n",
              "      <td>0</td>\n",
              "      <td>0</td>\n",
              "      <td>0</td>\n",
              "      <td>0</td>\n",
              "      <td>0</td>\n",
              "      <td>0</td>\n",
              "      <td>33</td>\n",
              "    </tr>\n",
              "    <tr>\n",
              "      <th>3</th>\n",
              "      <td>Andhra Pradesh</td>\n",
              "      <td>East Godavari</td>\n",
              "      <td>2014</td>\n",
              "      <td>0</td>\n",
              "      <td>1</td>\n",
              "      <td>0</td>\n",
              "      <td>7</td>\n",
              "      <td>0</td>\n",
              "      <td>3</td>\n",
              "      <td>0</td>\n",
              "      <td>0</td>\n",
              "      <td>0</td>\n",
              "      <td>0</td>\n",
              "      <td>3</td>\n",
              "      <td>2</td>\n",
              "      <td>0</td>\n",
              "      <td>0</td>\n",
              "      <td>0</td>\n",
              "      <td>0</td>\n",
              "      <td>0</td>\n",
              "      <td>0</td>\n",
              "      <td>0</td>\n",
              "      <td>0</td>\n",
              "      <td>0</td>\n",
              "      <td>0</td>\n",
              "      <td>0</td>\n",
              "      <td>1</td>\n",
              "      <td>1</td>\n",
              "      <td>0</td>\n",
              "      <td>0</td>\n",
              "      <td>0</td>\n",
              "      <td>12</td>\n",
              "      <td>9</td>\n",
              "      <td>35</td>\n",
              "      <td>0</td>\n",
              "      <td>0</td>\n",
              "      <td>0</td>\n",
              "      <td>0</td>\n",
              "      <td>0</td>\n",
              "      <td>0</td>\n",
              "      <td>0</td>\n",
              "      <td>0</td>\n",
              "      <td>0</td>\n",
              "      <td>0</td>\n",
              "      <td>0</td>\n",
              "      <td>0</td>\n",
              "      <td>0</td>\n",
              "      <td>0</td>\n",
              "      <td>0</td>\n",
              "      <td>0</td>\n",
              "      <td>0</td>\n",
              "      <td>0</td>\n",
              "      <td>0</td>\n",
              "      <td>0</td>\n",
              "      <td>0</td>\n",
              "      <td>0</td>\n",
              "      <td>0</td>\n",
              "      <td>0</td>\n",
              "      <td>0</td>\n",
              "      <td>0</td>\n",
              "      <td>0</td>\n",
              "      <td>0</td>\n",
              "      <td>0</td>\n",
              "      <td>0</td>\n",
              "      <td>0</td>\n",
              "      <td>35</td>\n",
              "    </tr>\n",
              "    <tr>\n",
              "      <th>4</th>\n",
              "      <td>Andhra Pradesh</td>\n",
              "      <td>Guntakal Railway</td>\n",
              "      <td>2014</td>\n",
              "      <td>0</td>\n",
              "      <td>0</td>\n",
              "      <td>0</td>\n",
              "      <td>0</td>\n",
              "      <td>0</td>\n",
              "      <td>0</td>\n",
              "      <td>0</td>\n",
              "      <td>0</td>\n",
              "      <td>0</td>\n",
              "      <td>0</td>\n",
              "      <td>0</td>\n",
              "      <td>0</td>\n",
              "      <td>0</td>\n",
              "      <td>0</td>\n",
              "      <td>0</td>\n",
              "      <td>0</td>\n",
              "      <td>0</td>\n",
              "      <td>0</td>\n",
              "      <td>0</td>\n",
              "      <td>0</td>\n",
              "      <td>0</td>\n",
              "      <td>0</td>\n",
              "      <td>0</td>\n",
              "      <td>0</td>\n",
              "      <td>0</td>\n",
              "      <td>0</td>\n",
              "      <td>0</td>\n",
              "      <td>0</td>\n",
              "      <td>0</td>\n",
              "      <td>0</td>\n",
              "      <td>0</td>\n",
              "      <td>0</td>\n",
              "      <td>0</td>\n",
              "      <td>0</td>\n",
              "      <td>0</td>\n",
              "      <td>0</td>\n",
              "      <td>0</td>\n",
              "      <td>0</td>\n",
              "      <td>0</td>\n",
              "      <td>0</td>\n",
              "      <td>0</td>\n",
              "      <td>0</td>\n",
              "      <td>0</td>\n",
              "      <td>0</td>\n",
              "      <td>0</td>\n",
              "      <td>0</td>\n",
              "      <td>0</td>\n",
              "      <td>0</td>\n",
              "      <td>0</td>\n",
              "      <td>0</td>\n",
              "      <td>0</td>\n",
              "      <td>0</td>\n",
              "      <td>0</td>\n",
              "      <td>0</td>\n",
              "      <td>0</td>\n",
              "      <td>0</td>\n",
              "      <td>0</td>\n",
              "      <td>0</td>\n",
              "      <td>0</td>\n",
              "      <td>0</td>\n",
              "      <td>0</td>\n",
              "      <td>0</td>\n",
              "      <td>0</td>\n",
              "    </tr>\n",
              "    <tr>\n",
              "      <th>...</th>\n",
              "      <td>...</td>\n",
              "      <td>...</td>\n",
              "      <td>...</td>\n",
              "      <td>...</td>\n",
              "      <td>...</td>\n",
              "      <td>...</td>\n",
              "      <td>...</td>\n",
              "      <td>...</td>\n",
              "      <td>...</td>\n",
              "      <td>...</td>\n",
              "      <td>...</td>\n",
              "      <td>...</td>\n",
              "      <td>...</td>\n",
              "      <td>...</td>\n",
              "      <td>...</td>\n",
              "      <td>...</td>\n",
              "      <td>...</td>\n",
              "      <td>...</td>\n",
              "      <td>...</td>\n",
              "      <td>...</td>\n",
              "      <td>...</td>\n",
              "      <td>...</td>\n",
              "      <td>...</td>\n",
              "      <td>...</td>\n",
              "      <td>...</td>\n",
              "      <td>...</td>\n",
              "      <td>...</td>\n",
              "      <td>...</td>\n",
              "      <td>...</td>\n",
              "      <td>...</td>\n",
              "      <td>...</td>\n",
              "      <td>...</td>\n",
              "      <td>...</td>\n",
              "      <td>...</td>\n",
              "      <td>...</td>\n",
              "      <td>...</td>\n",
              "      <td>...</td>\n",
              "      <td>...</td>\n",
              "      <td>...</td>\n",
              "      <td>...</td>\n",
              "      <td>...</td>\n",
              "      <td>...</td>\n",
              "      <td>...</td>\n",
              "      <td>...</td>\n",
              "      <td>...</td>\n",
              "      <td>...</td>\n",
              "      <td>...</td>\n",
              "      <td>...</td>\n",
              "      <td>...</td>\n",
              "      <td>...</td>\n",
              "      <td>...</td>\n",
              "      <td>...</td>\n",
              "      <td>...</td>\n",
              "      <td>...</td>\n",
              "      <td>...</td>\n",
              "      <td>...</td>\n",
              "      <td>...</td>\n",
              "      <td>...</td>\n",
              "      <td>...</td>\n",
              "      <td>...</td>\n",
              "      <td>...</td>\n",
              "      <td>...</td>\n",
              "      <td>...</td>\n",
              "      <td>...</td>\n",
              "      <td>...</td>\n",
              "      <td>...</td>\n",
              "    </tr>\n",
              "    <tr>\n",
              "      <th>832</th>\n",
              "      <td>Lakshadweep</td>\n",
              "      <td>Lakshadweep</td>\n",
              "      <td>2014</td>\n",
              "      <td>0</td>\n",
              "      <td>0</td>\n",
              "      <td>0</td>\n",
              "      <td>0</td>\n",
              "      <td>0</td>\n",
              "      <td>0</td>\n",
              "      <td>0</td>\n",
              "      <td>0</td>\n",
              "      <td>0</td>\n",
              "      <td>0</td>\n",
              "      <td>0</td>\n",
              "      <td>0</td>\n",
              "      <td>0</td>\n",
              "      <td>0</td>\n",
              "      <td>0</td>\n",
              "      <td>0</td>\n",
              "      <td>0</td>\n",
              "      <td>0</td>\n",
              "      <td>0</td>\n",
              "      <td>0</td>\n",
              "      <td>0</td>\n",
              "      <td>0</td>\n",
              "      <td>0</td>\n",
              "      <td>0</td>\n",
              "      <td>0</td>\n",
              "      <td>0</td>\n",
              "      <td>0</td>\n",
              "      <td>0</td>\n",
              "      <td>0</td>\n",
              "      <td>0</td>\n",
              "      <td>0</td>\n",
              "      <td>0</td>\n",
              "      <td>0</td>\n",
              "      <td>0</td>\n",
              "      <td>0</td>\n",
              "      <td>0</td>\n",
              "      <td>0</td>\n",
              "      <td>0</td>\n",
              "      <td>0</td>\n",
              "      <td>0</td>\n",
              "      <td>0</td>\n",
              "      <td>0</td>\n",
              "      <td>0</td>\n",
              "      <td>0</td>\n",
              "      <td>0</td>\n",
              "      <td>0</td>\n",
              "      <td>0</td>\n",
              "      <td>0</td>\n",
              "      <td>0</td>\n",
              "      <td>0</td>\n",
              "      <td>0</td>\n",
              "      <td>0</td>\n",
              "      <td>0</td>\n",
              "      <td>0</td>\n",
              "      <td>0</td>\n",
              "      <td>0</td>\n",
              "      <td>0</td>\n",
              "      <td>0</td>\n",
              "      <td>0</td>\n",
              "      <td>0</td>\n",
              "      <td>0</td>\n",
              "      <td>0</td>\n",
              "      <td>0</td>\n",
              "    </tr>\n",
              "    <tr>\n",
              "      <th>833</th>\n",
              "      <td>Lakshadweep</td>\n",
              "      <td>Total</td>\n",
              "      <td>2014</td>\n",
              "      <td>0</td>\n",
              "      <td>0</td>\n",
              "      <td>0</td>\n",
              "      <td>0</td>\n",
              "      <td>0</td>\n",
              "      <td>0</td>\n",
              "      <td>0</td>\n",
              "      <td>0</td>\n",
              "      <td>0</td>\n",
              "      <td>0</td>\n",
              "      <td>0</td>\n",
              "      <td>0</td>\n",
              "      <td>0</td>\n",
              "      <td>0</td>\n",
              "      <td>0</td>\n",
              "      <td>0</td>\n",
              "      <td>0</td>\n",
              "      <td>0</td>\n",
              "      <td>0</td>\n",
              "      <td>0</td>\n",
              "      <td>0</td>\n",
              "      <td>0</td>\n",
              "      <td>0</td>\n",
              "      <td>0</td>\n",
              "      <td>0</td>\n",
              "      <td>0</td>\n",
              "      <td>0</td>\n",
              "      <td>0</td>\n",
              "      <td>0</td>\n",
              "      <td>0</td>\n",
              "      <td>0</td>\n",
              "      <td>0</td>\n",
              "      <td>0</td>\n",
              "      <td>0</td>\n",
              "      <td>0</td>\n",
              "      <td>0</td>\n",
              "      <td>0</td>\n",
              "      <td>0</td>\n",
              "      <td>0</td>\n",
              "      <td>0</td>\n",
              "      <td>0</td>\n",
              "      <td>0</td>\n",
              "      <td>0</td>\n",
              "      <td>0</td>\n",
              "      <td>0</td>\n",
              "      <td>0</td>\n",
              "      <td>0</td>\n",
              "      <td>0</td>\n",
              "      <td>0</td>\n",
              "      <td>0</td>\n",
              "      <td>0</td>\n",
              "      <td>0</td>\n",
              "      <td>0</td>\n",
              "      <td>0</td>\n",
              "      <td>0</td>\n",
              "      <td>0</td>\n",
              "      <td>0</td>\n",
              "      <td>0</td>\n",
              "      <td>0</td>\n",
              "      <td>0</td>\n",
              "      <td>0</td>\n",
              "      <td>0</td>\n",
              "      <td>0</td>\n",
              "    </tr>\n",
              "    <tr>\n",
              "      <th>834</th>\n",
              "      <td>Puducherry</td>\n",
              "      <td>Karaikal</td>\n",
              "      <td>2014</td>\n",
              "      <td>0</td>\n",
              "      <td>0</td>\n",
              "      <td>0</td>\n",
              "      <td>0</td>\n",
              "      <td>0</td>\n",
              "      <td>0</td>\n",
              "      <td>0</td>\n",
              "      <td>0</td>\n",
              "      <td>0</td>\n",
              "      <td>0</td>\n",
              "      <td>0</td>\n",
              "      <td>0</td>\n",
              "      <td>0</td>\n",
              "      <td>0</td>\n",
              "      <td>0</td>\n",
              "      <td>0</td>\n",
              "      <td>0</td>\n",
              "      <td>0</td>\n",
              "      <td>0</td>\n",
              "      <td>0</td>\n",
              "      <td>0</td>\n",
              "      <td>0</td>\n",
              "      <td>0</td>\n",
              "      <td>0</td>\n",
              "      <td>0</td>\n",
              "      <td>0</td>\n",
              "      <td>0</td>\n",
              "      <td>0</td>\n",
              "      <td>0</td>\n",
              "      <td>0</td>\n",
              "      <td>0</td>\n",
              "      <td>0</td>\n",
              "      <td>0</td>\n",
              "      <td>0</td>\n",
              "      <td>0</td>\n",
              "      <td>0</td>\n",
              "      <td>0</td>\n",
              "      <td>0</td>\n",
              "      <td>0</td>\n",
              "      <td>0</td>\n",
              "      <td>0</td>\n",
              "      <td>0</td>\n",
              "      <td>0</td>\n",
              "      <td>0</td>\n",
              "      <td>0</td>\n",
              "      <td>0</td>\n",
              "      <td>0</td>\n",
              "      <td>0</td>\n",
              "      <td>0</td>\n",
              "      <td>0</td>\n",
              "      <td>0</td>\n",
              "      <td>0</td>\n",
              "      <td>0</td>\n",
              "      <td>0</td>\n",
              "      <td>0</td>\n",
              "      <td>0</td>\n",
              "      <td>0</td>\n",
              "      <td>0</td>\n",
              "      <td>0</td>\n",
              "      <td>0</td>\n",
              "      <td>0</td>\n",
              "      <td>0</td>\n",
              "      <td>0</td>\n",
              "    </tr>\n",
              "    <tr>\n",
              "      <th>835</th>\n",
              "      <td>Puducherry</td>\n",
              "      <td>Puducherry</td>\n",
              "      <td>2014</td>\n",
              "      <td>0</td>\n",
              "      <td>0</td>\n",
              "      <td>0</td>\n",
              "      <td>0</td>\n",
              "      <td>0</td>\n",
              "      <td>1</td>\n",
              "      <td>1</td>\n",
              "      <td>0</td>\n",
              "      <td>0</td>\n",
              "      <td>0</td>\n",
              "      <td>0</td>\n",
              "      <td>0</td>\n",
              "      <td>0</td>\n",
              "      <td>0</td>\n",
              "      <td>0</td>\n",
              "      <td>0</td>\n",
              "      <td>0</td>\n",
              "      <td>0</td>\n",
              "      <td>0</td>\n",
              "      <td>0</td>\n",
              "      <td>0</td>\n",
              "      <td>0</td>\n",
              "      <td>0</td>\n",
              "      <td>0</td>\n",
              "      <td>0</td>\n",
              "      <td>0</td>\n",
              "      <td>0</td>\n",
              "      <td>0</td>\n",
              "      <td>0</td>\n",
              "      <td>0</td>\n",
              "      <td>1</td>\n",
              "      <td>0</td>\n",
              "      <td>0</td>\n",
              "      <td>0</td>\n",
              "      <td>0</td>\n",
              "      <td>0</td>\n",
              "      <td>0</td>\n",
              "      <td>0</td>\n",
              "      <td>0</td>\n",
              "      <td>0</td>\n",
              "      <td>0</td>\n",
              "      <td>0</td>\n",
              "      <td>0</td>\n",
              "      <td>0</td>\n",
              "      <td>0</td>\n",
              "      <td>0</td>\n",
              "      <td>0</td>\n",
              "      <td>0</td>\n",
              "      <td>0</td>\n",
              "      <td>0</td>\n",
              "      <td>0</td>\n",
              "      <td>0</td>\n",
              "      <td>0</td>\n",
              "      <td>0</td>\n",
              "      <td>0</td>\n",
              "      <td>0</td>\n",
              "      <td>0</td>\n",
              "      <td>0</td>\n",
              "      <td>0</td>\n",
              "      <td>0</td>\n",
              "      <td>0</td>\n",
              "      <td>1</td>\n",
              "      <td>2</td>\n",
              "    </tr>\n",
              "    <tr>\n",
              "      <th>836</th>\n",
              "      <td>Puducherry</td>\n",
              "      <td>Total</td>\n",
              "      <td>2014</td>\n",
              "      <td>0</td>\n",
              "      <td>0</td>\n",
              "      <td>0</td>\n",
              "      <td>0</td>\n",
              "      <td>0</td>\n",
              "      <td>1</td>\n",
              "      <td>1</td>\n",
              "      <td>0</td>\n",
              "      <td>0</td>\n",
              "      <td>0</td>\n",
              "      <td>0</td>\n",
              "      <td>0</td>\n",
              "      <td>0</td>\n",
              "      <td>0</td>\n",
              "      <td>0</td>\n",
              "      <td>0</td>\n",
              "      <td>0</td>\n",
              "      <td>0</td>\n",
              "      <td>0</td>\n",
              "      <td>0</td>\n",
              "      <td>0</td>\n",
              "      <td>0</td>\n",
              "      <td>0</td>\n",
              "      <td>0</td>\n",
              "      <td>0</td>\n",
              "      <td>0</td>\n",
              "      <td>0</td>\n",
              "      <td>0</td>\n",
              "      <td>0</td>\n",
              "      <td>0</td>\n",
              "      <td>1</td>\n",
              "      <td>0</td>\n",
              "      <td>0</td>\n",
              "      <td>0</td>\n",
              "      <td>0</td>\n",
              "      <td>0</td>\n",
              "      <td>0</td>\n",
              "      <td>0</td>\n",
              "      <td>0</td>\n",
              "      <td>0</td>\n",
              "      <td>0</td>\n",
              "      <td>0</td>\n",
              "      <td>0</td>\n",
              "      <td>0</td>\n",
              "      <td>0</td>\n",
              "      <td>0</td>\n",
              "      <td>0</td>\n",
              "      <td>0</td>\n",
              "      <td>0</td>\n",
              "      <td>0</td>\n",
              "      <td>0</td>\n",
              "      <td>0</td>\n",
              "      <td>0</td>\n",
              "      <td>0</td>\n",
              "      <td>0</td>\n",
              "      <td>0</td>\n",
              "      <td>0</td>\n",
              "      <td>0</td>\n",
              "      <td>0</td>\n",
              "      <td>0</td>\n",
              "      <td>0</td>\n",
              "      <td>1</td>\n",
              "      <td>2</td>\n",
              "    </tr>\n",
              "  </tbody>\n",
              "</table>\n",
              "<p>837 rows × 66 columns</p>\n",
              "</div>"
            ],
            "text/plain": [
              "         States/UTs  ... Total crimes against STs\n",
              "0    Andhra Pradesh  ...                       23\n",
              "1    Andhra Pradesh  ...                       17\n",
              "2    Andhra Pradesh  ...                       33\n",
              "3    Andhra Pradesh  ...                       35\n",
              "4    Andhra Pradesh  ...                        0\n",
              "..              ...  ...                      ...\n",
              "832     Lakshadweep  ...                        0\n",
              "833     Lakshadweep  ...                        0\n",
              "834      Puducherry  ...                        0\n",
              "835      Puducherry  ...                        2\n",
              "836      Puducherry  ...                        2\n",
              "\n",
              "[837 rows x 66 columns]"
            ]
          },
          "metadata": {
            "tags": []
          },
          "execution_count": 7
        }
      ]
    },
    {
      "cell_type": "code",
      "metadata": {
        "id": "6fPzEjlQuFwd",
        "colab": {
          "base_uri": "https://localhost:8080/"
        },
        "outputId": "567c4f87-eea3-484f-fd48-77b0e1a50304"
      },
      "source": [
        "\r\n",
        "X1=data1['Total of SC/ST (Prevention of Atrocities) Act ,1989']\r\n",
        "X2=data1['Total IPC Crimes against STs']\r\n",
        "X_training=np.array(list(zip(X1,X2)))\r\n",
        "X_training"
      ],
      "execution_count": null,
      "outputs": [
        {
          "output_type": "execute_result",
          "data": {
            "text/plain": [
              "array([[23,  0],\n",
              "       [17,  0],\n",
              "       [33,  0],\n",
              "       ...,\n",
              "       [ 0,  0],\n",
              "       [ 1,  0],\n",
              "       [ 1,  0]])"
            ]
          },
          "metadata": {
            "tags": []
          },
          "execution_count": 8
        }
      ]
    },
    {
      "cell_type": "code",
      "metadata": {
        "id": "Ubd4wjtXuPCR",
        "colab": {
          "base_uri": "https://localhost:8080/"
        },
        "outputId": "e0515ded-ef7d-4237-de33-78502f0c0a06"
      },
      "source": [
        "\r\n",
        "y_training=data1['Total crimes against STs']\r\n",
        "y_training"
      ],
      "execution_count": null,
      "outputs": [
        {
          "output_type": "execute_result",
          "data": {
            "text/plain": [
              "0      23\n",
              "1      17\n",
              "2      33\n",
              "3      35\n",
              "4       0\n",
              "       ..\n",
              "832     0\n",
              "833     0\n",
              "834     0\n",
              "835     2\n",
              "836     2\n",
              "Name: Total crimes against STs, Length: 837, dtype: int64"
            ]
          },
          "metadata": {
            "tags": []
          },
          "execution_count": 9
        }
      ]
    },
    {
      "cell_type": "code",
      "metadata": {
        "id": "9S-E7WHEugxa"
      },
      "source": [
        ""
      ],
      "execution_count": null,
      "outputs": []
    },
    {
      "cell_type": "code",
      "metadata": {
        "id": "rOoKcNU1uYQf",
        "colab": {
          "base_uri": "https://localhost:8080/"
        },
        "outputId": "ac441eb3-8d9a-4bb7-d5cf-ed18da8694bd"
      },
      "source": [
        "target_names=['-1','+1']\r\n",
        "target_names"
      ],
      "execution_count": null,
      "outputs": [
        {
          "output_type": "execute_result",
          "data": {
            "text/plain": [
              "['-1', '+1']"
            ]
          },
          "metadata": {
            "tags": []
          },
          "execution_count": 10
        }
      ]
    },
    {
      "cell_type": "code",
      "metadata": {
        "id": "_HOKk_9_uZs9",
        "colab": {
          "base_uri": "https://localhost:8080/",
          "height": 239
        },
        "outputId": "a9491dd5-3546-4a45-910f-ec3163ec23bf"
      },
      "source": [
        "#training our data\r\n",
        "Min=y_training[y_training<0].index\r\n",
        "Plus=y_training[y_training>0].index\r\n",
        "plt.scatter(X_training[Min,0],X_training[Min,1],c='b',s=100)\r\n",
        "plt.scatter(X_training[Plus,0],X_training[Plus,1],c='r',s=100)\r\n",
        "plt.xlabel('X1')\r\n",
        "plt.ylabel('X2');\r\n",
        "plt.savefig('chart0.png')"
      ],
      "execution_count": null,
      "outputs": [
        {
          "output_type": "error",
          "ename": "NameError",
          "evalue": "ignored",
          "traceback": [
            "\u001b[0;31m---------------------------------------------------------------------------\u001b[0m",
            "\u001b[0;31mNameError\u001b[0m                                 Traceback (most recent call last)",
            "\u001b[0;32m<ipython-input-1-c66154b523d6>\u001b[0m in \u001b[0;36m<module>\u001b[0;34m()\u001b[0m\n\u001b[1;32m      1\u001b[0m \u001b[0;31m#training our data\u001b[0m\u001b[0;34m\u001b[0m\u001b[0;34m\u001b[0m\u001b[0;34m\u001b[0m\u001b[0m\n\u001b[0;32m----> 2\u001b[0;31m \u001b[0mMin\u001b[0m\u001b[0;34m=\u001b[0m\u001b[0my_training\u001b[0m\u001b[0;34m[\u001b[0m\u001b[0my_training\u001b[0m\u001b[0;34m<\u001b[0m\u001b[0;36m0\u001b[0m\u001b[0;34m]\u001b[0m\u001b[0;34m.\u001b[0m\u001b[0mindex\u001b[0m\u001b[0;34m\u001b[0m\u001b[0;34m\u001b[0m\u001b[0m\n\u001b[0m\u001b[1;32m      3\u001b[0m \u001b[0mPlus\u001b[0m\u001b[0;34m=\u001b[0m\u001b[0my_training\u001b[0m\u001b[0;34m[\u001b[0m\u001b[0my_training\u001b[0m\u001b[0;34m>\u001b[0m\u001b[0;36m0\u001b[0m\u001b[0;34m]\u001b[0m\u001b[0;34m.\u001b[0m\u001b[0mindex\u001b[0m\u001b[0;34m\u001b[0m\u001b[0;34m\u001b[0m\u001b[0m\n\u001b[1;32m      4\u001b[0m \u001b[0mplt\u001b[0m\u001b[0;34m.\u001b[0m\u001b[0mscatter\u001b[0m\u001b[0;34m(\u001b[0m\u001b[0mX_training\u001b[0m\u001b[0;34m[\u001b[0m\u001b[0mMin\u001b[0m\u001b[0;34m,\u001b[0m\u001b[0;36m0\u001b[0m\u001b[0;34m]\u001b[0m\u001b[0;34m,\u001b[0m\u001b[0mX_training\u001b[0m\u001b[0;34m[\u001b[0m\u001b[0mMin\u001b[0m\u001b[0;34m,\u001b[0m\u001b[0;36m1\u001b[0m\u001b[0;34m]\u001b[0m\u001b[0;34m,\u001b[0m\u001b[0mc\u001b[0m\u001b[0;34m=\u001b[0m\u001b[0;34m'b'\u001b[0m\u001b[0;34m,\u001b[0m\u001b[0ms\u001b[0m\u001b[0;34m=\u001b[0m\u001b[0;36m100\u001b[0m\u001b[0;34m)\u001b[0m\u001b[0;34m\u001b[0m\u001b[0;34m\u001b[0m\u001b[0m\n\u001b[1;32m      5\u001b[0m \u001b[0mplt\u001b[0m\u001b[0;34m.\u001b[0m\u001b[0mscatter\u001b[0m\u001b[0;34m(\u001b[0m\u001b[0mX_training\u001b[0m\u001b[0;34m[\u001b[0m\u001b[0mPlus\u001b[0m\u001b[0;34m,\u001b[0m\u001b[0;36m0\u001b[0m\u001b[0;34m]\u001b[0m\u001b[0;34m,\u001b[0m\u001b[0mX_training\u001b[0m\u001b[0;34m[\u001b[0m\u001b[0mPlus\u001b[0m\u001b[0;34m,\u001b[0m\u001b[0;36m1\u001b[0m\u001b[0;34m]\u001b[0m\u001b[0;34m,\u001b[0m\u001b[0mc\u001b[0m\u001b[0;34m=\u001b[0m\u001b[0;34m'r'\u001b[0m\u001b[0;34m,\u001b[0m\u001b[0ms\u001b[0m\u001b[0;34m=\u001b[0m\u001b[0;36m100\u001b[0m\u001b[0;34m)\u001b[0m\u001b[0;34m\u001b[0m\u001b[0;34m\u001b[0m\u001b[0m\n",
            "\u001b[0;31mNameError\u001b[0m: name 'y_training' is not defined"
          ]
        }
      ]
    },
    {
      "cell_type": "code",
      "metadata": {
        "id": "urB3OuJquc3Y"
      },
      "source": [
        "from sklearn import preprocessing"
      ],
      "execution_count": null,
      "outputs": []
    },
    {
      "cell_type": "code",
      "metadata": {
        "id": "gcS53-yeufAE",
        "colab": {
          "base_uri": "https://localhost:8080/"
        },
        "outputId": "f8195053-3e19-44b8-c403-2812d1f36401"
      },
      "source": [
        "\r\n",
        "svc = svm.SVC(kernel='linear').fit(X_training,y_training)\r\n",
        "svc"
      ],
      "execution_count": null,
      "outputs": [
        {
          "output_type": "execute_result",
          "data": {
            "text/plain": [
              "SVC(C=1.0, break_ties=False, cache_size=200, class_weight=None, coef0=0.0,\n",
              "    decision_function_shape='ovr', degree=3, gamma='scale', kernel='linear',\n",
              "    max_iter=-1, probability=False, random_state=None, shrinking=True,\n",
              "    tol=0.001, verbose=False)"
            ]
          },
          "metadata": {
            "tags": []
          },
          "execution_count": 13
        }
      ]
    },
    {
      "cell_type": "code",
      "metadata": {
        "id": "MHdZHzgGuhPw",
        "colab": {
          "base_uri": "https://localhost:8080/"
        },
        "outputId": "806f59b7-a26c-4310-9554-da65d8c0e33f"
      },
      "source": [
        "\r\n",
        "\r\n",
        "\r\n",
        "\r\n",
        "lbX1=math.floor(min(X_training[:,0]))-1\r\n",
        "ubX1=math.ceil(max(X_training[:,0]))+1\r\n",
        "lbX2=math.floor(min(X_training[:,1]))-1\r\n",
        "ubX2=math.ceil(max(X_training[:,1]))+1\r\n",
        "[lbX1,ubX1,lbX2,ubX2]\r\n"
      ],
      "execution_count": null,
      "outputs": [
        {
          "output_type": "execute_result",
          "data": {
            "text/plain": [
              "[-1, 1682, -1, 2241]"
            ]
          },
          "metadata": {
            "tags": []
          },
          "execution_count": 14
        }
      ]
    },
    {
      "cell_type": "code",
      "metadata": {
        "id": "nDkxf8soukHn",
        "colab": {
          "base_uri": "https://localhost:8080/",
          "height": 283
        },
        "outputId": "7d92440c-59cd-4c61-94fc-2d8ce6223948"
      },
      "source": [
        "\r\n",
        "Min=y_training[y_training<0].index\r\n",
        "Plus=y_training[y_training>0].index\r\n",
        "plt.scatter(X_training[Min,0],X_training[Min,1],c='b',s=50)\r\n",
        "plt.scatter(X_training[Plus,0],X_training[Plus,1],c='r',s=50)"
      ],
      "execution_count": null,
      "outputs": [
        {
          "output_type": "execute_result",
          "data": {
            "text/plain": [
              "<matplotlib.collections.PathCollection at 0x7f1b8de8eba8>"
            ]
          },
          "metadata": {
            "tags": []
          },
          "execution_count": 15
        },
        {
          "output_type": "display_data",
          "data": {
            "image/png": "[encoded data removed]",
            "text/plain": [
              "<Figure size 432x288 with 1 Axes>"
            ]
          },
          "metadata": {
            "tags": [],
            "needs_background": "light"
          }
        }
      ]
    },
    {
      "cell_type": "code",
      "metadata": {
        "id": "Grx6mIb4uoVw",
        "colab": {
          "base_uri": "https://localhost:8080/",
          "height": 283
        },
        "outputId": "4aa469ac-da28-46f6-9bf3-25e1d2254228"
      },
      "source": [
        "\r\n",
        "Min=y_training[y_training<0].index\r\n",
        "Plus=y_training[y_training>0].index\r\n",
        "plt.scatter(X_training[Min,0],X_training[Min,1],c='b',s=50)\r\n",
        "plt.scatter(X_training[Plus,0],X_training[Plus,1],c='r',s=50)\r\n",
        "plt.scatter(50,100,c='r',marker='s',s=50)\t\t\t#chnange the prediction value\r\n",
        "plt.legend(['-1','+1','prediction'],loc=2)"
      ],
      "execution_count": null,
      "outputs": [
        {
          "output_type": "execute_result",
          "data": {
            "text/plain": [
              "<matplotlib.legend.Legend at 0x7f1b8e43f780>"
            ]
          },
          "metadata": {
            "tags": []
          },
          "execution_count": 16
        },
        {
          "output_type": "display_data",
          "data": {
            "image/png": "[encoded data removed]",
            "text/plain": [
              "<Figure size 432x288 with 1 Axes>"
            ]
          },
          "metadata": {
            "tags": [],
            "needs_background": "light"
          }
        }
      ]
    }
  ]
}